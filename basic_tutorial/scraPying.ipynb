{
 "cells": [
  {
   "cell_type": "markdown",
   "metadata": {},
   "source": [
    "# Web scraping with Python: getting started"
   ]
  },
  {
   "cell_type": "markdown",
   "metadata": {},
   "source": [
    "## Introduction\n",
    "\n",
    "This tutorial is a quick introduction to web scraping with Python. It covers:\n",
    "\n",
    "- basics: we use requests and beautifulsoup4 (pip install...)\n",
    "- scraping from simple html webpages\n",
    "- scraping from paginated results"
   ]
  },
  {
   "cell_type": "markdown",
   "metadata": {},
   "source": [
    "Obligatory disclaimer: the website's owner might not want you to scrape their contents.\n",
    "\n",
    "Always take a look at the robots.txt file, found in the \"root\" directory of the majority of websites."
   ]
  },
  {
   "cell_type": "markdown",
   "metadata": {},
   "source": [
    "For example, it.wikipedia.org/robots.txt looks like this:\n",
    "![title](robotstxt.png)"
   ]
  },
  {
   "cell_type": "markdown",
   "metadata": {},
   "source": [
    "## Scraping a simple webpage"
   ]
  },
  {
   "cell_type": "markdown",
   "metadata": {},
   "source": [
    "Assuming we're not violating the website's rules, we can download pretty much everything we want.\n",
    "\n",
    "Therefore, let's download the list of every trap artist, according to Italian Wikipedia. It can be found at the url:\n",
    "\n",
    "https://it.wikipedia.org/wiki/Categoria:Cantanti_trap\n",
    "\n",
    "it looks like this:"
   ]
  },
  {
   "cell_type": "markdown",
   "metadata": {},
   "source": [
    "![title](trappers.png)"
   ]
  },
  {
   "cell_type": "markdown",
   "metadata": {},
   "source": [
    "With such a simple page, we could just copy-paste the wanted text then clean it. The advantage of scraping the text from the html is that 1) we learn the basics of web scraping and 2) the result is (moslty) already clean and for example it can be immediately saved as a textfile or manipulated with pandas."
   ]
  },
  {
   "cell_type": "markdown",
   "metadata": {},
   "source": [
    "First of all, we need to import requests and beautifulsoup4:"
   ]
  },
  {
   "cell_type": "code",
   "execution_count": 41,
   "metadata": {},
   "outputs": [],
   "source": [
    "import requests # to make http call and donwload html sources; use the following settings:\n",
    "headers = requests.utils.default_headers()\n",
    "headers['User-Agent'] = 'Mozilla/5.0 (X11; Linux x86_64) AppleWebKit/537.36 (KHTML, like Gecko) Chrome/56.0.2924.87 Safari/537.36'\n",
    "\n",
    "from bs4 import BeautifulSoup as bs # to navigate the downloaded html and extract relevant information\n",
    "\n",
    "import re # regular expressions in python\n",
    "\n",
    "import random # generate random integers\n",
    "\n",
    "import time # used to wait some time between http requests"
   ]
  },
  {
   "cell_type": "markdown",
   "metadata": {},
   "source": [
    "Next, we make the http call to the url, which results in a request object:"
   ]
  },
  {
   "cell_type": "code",
   "execution_count": 2,
   "metadata": {},
   "outputs": [
    {
     "name": "stdout",
     "output_type": "stream",
     "text": [
      "<Response [200]>\n"
     ]
    }
   ],
   "source": [
    "url = \"https://it.wikipedia.org/wiki/Categoria:Cantanti_trap\" # urls are just strings\n",
    "\n",
    "r = requests.get(url, headers = headers) # using the headers specified above\n",
    "\n",
    "print(r)"
   ]
  },
  {
   "cell_type": "markdown",
   "metadata": {},
   "source": [
    "Response 200 means everything's OK. Other kinds of responses (less OK) include 404 \"Not Found\" and 503 \"Service Unavailable\".\n",
    "\n",
    "The response object has a text method, which shows the text downloaded with the request:"
   ]
  },
  {
   "cell_type": "code",
   "execution_count": 3,
   "metadata": {},
   "outputs": [
    {
     "name": "stdout",
     "output_type": "stream",
     "text": [
      "<!DOCTYPE html>\n",
      "<html class=\"client-nojs\" lang=\"it\" dir=\"ltr\">\n",
      "<head>\n",
      "<meta charset=\"UTF-8\"/>\n",
      "<title>Categoria:Cantanti trap - Wikipedia</title>\n",
      "<script>document.documentElement.className = document.documentElement.className.replace( /(^|\\s)client-nojs(\\s|$)/, \"$1client-js$2\" );</script>\n",
      "<script>(window.RLQ=window.RLQ||[]).push(function(){mw.config.set({\"wgCanonicalNamespace\":\"Category\",\"wgCanonicalSpecialPageName\":false,\"wgNamespaceNumber\":14,\"wgPageName\":\"Categoria:Cantanti_trap\",\"wgTitle\":\"Cantanti trap\",\"wgCurRevisionId\":101188935,\"wgRevisionId\":101188935,\"wgArticleId\":5439423,\"wgIsArticle\":true,\"wgIsRedirect\":false,\"wgAction\":\"view\",\"wgUserName\":null,\"wgUserGroups\":[\"*\"],\"wgCategories\":[\"Cantanti hip hop\",\"Musicisti trap\"],\"wgBreakFrames\":false,\"wgPageContentLanguage\":\"it\",\"wgPageContentModel\":\"wikitext\",\"wgSeparatorTransformTable\":[\",\\t.\",\" \\t,\"],\"wgDigitTransformTable\":[\"\",\"\"],\"wgDefaultDateFormat\":\"dmy\",\"wgMonthNames\":[\"\",\"gennaio\",\"febbraio\",\"marzo\",\"aprile\",\"maggio\",\"giugno\",\"luglio\",\"agosto\",\"settembre\",\"ottobre\",\"novembre\",\"dicembre\"],\"wgMonthNamesShort\":[\"\",\"gen\",\"feb\",\"mar\",\"apr\",\"mag\",\"giu\",\"lug\",\"ago\",\"set\",\"ott\",\"nov\",\"dic\"],\"wgRelevantPageName\":\"Categoria:Cantanti_trap\",\"wgRelevantArticleId\":5439423,\"wgRequestId\":\"XISFGgpAICkAABRDLqEAAABD\",\"wgCSPNonce\":false,\"wgIsProbablyEditable\":true,\"wgRelevantPageIsProbablyEditable\":true,\"wgRestrictionEdit\":[],\"wgRestrictionMove\":[],\"wgCategoryTreePageCategoryOptions\":\"{\\\"mode\\\":0,\\\"hideprefix\\\":20,\\\"showcount\\\":true,\\\"namespaces\\\":false}\",\"wgWikiEditorEnabledModules\":[],\"wgBetaFeaturesFeatures\":[],\"wgMediaViewerOnClick\":true,\"wgMediaViewerEnabledByDefault\":true,\"wgPopupsReferencePreviews\":false,\"wgPopupsShouldSendModuleToUser\":true,\"wgPopupsConflictsWithNavPopupGadget\":false,\"wgVisualEditor\":{\"pageLanguageCode\":\"it\",\"pageLanguageDir\":\"ltr\",\"pageVariantFallbacks\":\"it\",\"usePageImages\":true,\"usePageDescriptions\":true},\"wgMFIsPageContentModelEditable\":true,\"wgMFEnableFontChanger\":true,\"wgMFDisplayWikibaseDescriptions\":{\"search\":true,\"nearby\":true,\"watchlist\":true,\"tagline\":true},\"wgRelatedArticles\":null,\"wgRelatedArticlesUseCirrusSearch\":true,\"wgRelatedArticlesOnlyUseCirrusSearch\":false,\"wgWMESchemaEditAttemptStepOversample\":false,\"wgPoweredByHHVM\":true,\"wgULSCurrentAutonym\":\"italiano\",\"wgNoticeProject\":\"wikipedia\",\"wgCentralNoticeCookiesToDelete\":[],\"wgCentralNoticeCategoriesUsingLegacy\":[\"Fundraising\",\"fundraising\"],\"wgWikibaseItemId\":\"Q19857999\",\"wgScoreNoteLanguages\":{\"arabic\":\"العربية\",\"catalan\":\"català\",\"deutsch\":\"Deutsch\",\"english\":\"English\",\"espanol\":\"español\",\"italiano\":\"italiano\",\"nederlands\":\"Nederlands\",\"norsk\":\"norsk\",\"portugues\":\"português\",\"suomi\":\"suomi\",\"svenska\":\"svenska\",\"vlaams\":\"West-Vlams\"},\"wgScoreDefaultNoteLanguage\":\"nederlands\",\"wgCentralAuthMobileDomain\":false,\"wgCodeMirrorEnabled\":true,\"wgVisualEditorToolbarScrollOffset\":0,\"wgVisualEditorUnsupportedEditParams\":[\"undo\",\"undoafter\",\"veswitched\"],\"wgEditSubmitButtonLabelPublish\":true,\"oresWikiId\":\"itwiki\",\"oresBaseUrl\":\"http://ores.discovery.wmnet:8081/\",\"oresApiVersion\":3});mw.loader.state({\"ext.gadget.PDCStriker\":\"ready\",\"ext.globalCssJs.user.styles\":\"ready\",\"ext.globalCssJs.site.styles\":\"ready\",\"site.styles\":\"ready\",\"noscript\":\"ready\",\"user.styles\":\"ready\",\"ext.globalCssJs.user\":\"ready\",\"ext.globalCssJs.site\":\"ready\",\"user\":\"ready\",\"user.options\":\"loading\",\"user.tokens\":\"loading\",\"mediawiki.action.view.categoryPage.styles\":\"ready\",\"mediawiki.helplink\":\"ready\",\"mediawiki.legacy.shared\":\"ready\",\"mediawiki.legacy.commonPrint\":\"ready\",\"wikibase.client.init\":\"ready\",\"ext.visualEditor.desktopArticleTarget.noscript\":\"ready\",\"ext.uls.interlanguage\":\"ready\",\"ext.wikimediaBadges\":\"ready\",\"ext.3d.styles\":\"ready\",\"ext.tmh.thumbnail.styles\":\"ready\",\"mediawiki.skinning.interface\":\"ready\",\"skins.vector.styles\":\"ready\"});mw.loader.implement(\"user.options@1mrx54z\",function($,jQuery,require,module){/*@nomin*/mw.user.options.set({\"variant\":\"it\"});\n",
      "});mw.loader.implement(\"user.tokens@0tffind\",function($,jQuery,require,module){/*@nomin*/mw.user.tokens.set({\"editToken\":\"+\\\\\",\"patrolToken\":\"+\\\\\",\"watchToken\":\"+\\\\\",\"csrfToken\":\"+\\\\\"});\n",
      "});RLPAGEMODULES=[\"site\",\"mediawiki.page.startup\",\"mediawiki.page.ready\",\"mediawiki.searchSuggest\",\"ext.gadget.HiddenCat\",\"ext.gadget.watchlist-notice\",\"ext.gadget.OpenStreetMap\",\"ext.gadget.ReferenceTooltips\",\"ext.gadget.WikiMiniAtlas\",\"ext.gadget.ExternalSearch\",\"ext.gadget.Form-valutazione-enc\",\"ext.gadget.NewSection\",\"ext.gadget.SimilarTitles\",\"ext.centralauth.centralautologin\",\"ext.popups\",\"ext.visualEditor.desktopArticleTarget.init\",\"ext.visualEditor.targetLoader\",\"ext.eventLogging\",\"ext.wikimediaEvents\",\"ext.navigationTiming\",\"ext.uls.eventlogger\",\"ext.uls.init\",\"ext.uls.compactlinks\",\"ext.uls.interface\",\"ext.centralNotice.geoIP\",\"ext.centralNotice.startUp\",\"mw.MediaWikiPlayer.loader\",\"mw.PopUpMediaTransform\",\"skins.vector.js\"];mw.loader.load(RLPAGEMODULES);});</script>\n",
      "<link rel=\"stylesheet\" href=\"/w/load.php?debug=false&amp;lang=it&amp;modules=ext.3d.styles%7Cext.tmh.thumbnail.styles%7Cext.uls.interlanguage%7Cext.visualEditor.desktopArticleTarget.noscript%7Cext.wikimediaBadges%7Cmediawiki.action.view.categoryPage.styles%7Cmediawiki.helplink%7Cmediawiki.legacy.commonPrint%2Cshared%7Cmediawiki.skinning.interface%7Cskins.vector.styles%7Cwikibase.client.init&amp;only=styles&amp;skin=vector\"/>\n",
      "<script async=\"\" src=\"/w/load.php?debug=false&amp;lang=it&amp;modules=startup&amp;only=scripts&amp;skin=vector\"></script>\n",
      "<meta name=\"ResourceLoaderDynamicStyles\" content=\"\"/>\n",
      "<link rel=\"stylesheet\" href=\"/w/load.php?debug=false&amp;lang=it&amp;modules=ext.gadget.PDCStriker&amp;only=styles&amp;skin=vector\"/>\n",
      "<link rel=\"stylesheet\" href=\"/w/load.php?debug=false&amp;lang=it&amp;modules=site.styles&amp;only=styles&amp;skin=vector\"/>\n",
      "<meta name=\"generator\" content=\"MediaWiki 1.33.0-wmf.20\"/>\n",
      "<meta name=\"referrer\" content=\"origin\"/>\n",
      "<meta name=\"referrer\" content=\"origin-when-crossorigin\"/>\n",
      "<meta name=\"referrer\" content=\"origin-when-cross-origin\"/>\n",
      "<link rel=\"alternate\" type=\"application/x-wiki\" title=\"Modifica\" href=\"/w/index.php?title=Categoria:Cantanti_trap&amp;action=edit\"/>\n",
      "<link rel=\"edit\" title=\"Modifica\" href=\"/w/index.php?title=Categoria:Cantanti_trap&amp;action=edit\"/>\n",
      "<link rel=\"apple-touch-icon\" href=\"/static/apple-touch/wikipedia.png\"/>\n",
      "<link rel=\"shortcut icon\" href=\"/static/favicon/wikipedia.ico\"/>\n",
      "<link rel=\"search\" type=\"application/opensearchdescription+xml\" href=\"/w/opensearch_desc.php\" title=\"Wikipedia (it)\"/>\n",
      "<link rel=\"EditURI\" type=\"application/rsd+xml\" href=\"//it.wikipedia.org/w/api.php?action=rsd\"/>\n",
      "<link rel=\"license\" href=\"//creativecommons.org/licenses/by-sa/3.0/\"/>\n",
      "<link rel=\"alternate\" type=\"application/atom+xml\" title=\"Feed Atom di Wikipedia\" href=\"/w/index.php?title=Speciale:UltimeModifiche&amp;feed=atom\"/>\n",
      "<link rel=\"canonical\" href=\"https://it.wikipedia.org/wiki/Categoria:Cantanti_trap\"/>\n",
      "<link rel=\"dns-prefetch\" href=\"//login.wikimedia.org\"/>\n",
      "<link rel=\"dns-prefetch\" href=\"//meta.wikimedia.org\" />\n",
      "<!--[if lt IE 9]><script src=\"/w/load.php?debug=false&amp;lang=it&amp;modules=html5shiv&amp;only=scripts&amp;skin=vector&amp;sync=1\"></script><![endif]-->\n",
      "</head>\n",
      "<body class=\"mediawiki ltr sitedir-ltr mw-hide-empty-elt ns-14 ns-subject mw-editable page-Categoria_Cantanti_trap rootpage-Categoria_Cantanti_trap skin-vector action-view\">\t\t<div id=\"mw-page-base\" class=\"noprint\"></div>\n",
      "\t\t<div id=\"mw-head-base\" class=\"noprint\"></div>\n",
      "\t\t<div id=\"content\" class=\"mw-body\" role=\"main\">\n",
      "\t\t\t<a id=\"top\"></a>\n",
      "\t\t\t<div id=\"siteNotice\" class=\"mw-body-content\"><!-- CentralNotice --></div><div class=\"mw-indicators mw-body-content\">\n",
      "<div id=\"mw-indicator-mw-helplink\" class=\"mw-indicator\"><a href=\"/wiki/Aiuto:Categorie\" target=\"_blank\" class=\"mw-helplink\">Aiuto</a></div>\n",
      "</div>\n",
      "<h1 id=\"firstHeading\" class=\"firstHeading\" lang=\"it\">Categoria:Cantanti trap</h1>\t\t\t<div id=\"bodyContent\" class=\"mw-body-content\">\n",
      "\t\t\t\t<div id=\"siteSub\" class=\"noprint\">Da Wikipedia, l'enciclopedia libera.</div>\t\t\t\t<div id=\"contentSub\"></div>\n",
      "\t\t\t\t<div id=\"jump-to-nav\"></div>\t\t\t\t<a class=\"mw-jump-link\" href=\"#mw-head\">Jump to navigation</a>\n",
      "\t\t\t\t<a class=\"mw-jump-link\" href=\"#p-search\">Jump to search</a>\n",
      "\t\t\t\t<div id=\"mw-content-text\" lang=\"it\" dir=\"ltr\" class=\"mw-content-ltr\"><div class=\"mw-parser-output\"><p>Questa categoria raggruppa voci su <a href=\"/wiki/Cantante\" title=\"Cantante\">cantanti</a> <a href=\"/wiki/Trap_(genere_musicale)\" title=\"Trap (genere musicale)\">trap</a>.\n",
      "</p><p><b>Categorie correlate:</b> <a href=\"/wiki/Categoria:Cantanti_per_nazionalit%C3%A0\" title=\"Categoria:Cantanti per nazionalità\">Cantanti per nazionalità</a><span style=\"font-weight:bold;\">&#160;·</span>\n",
      "<a href=\"/wiki/Categoria:Cantanti_per_genere\" title=\"Categoria:Cantanti per genere\">Cantanti per genere (tutti)</a><span style=\"font-weight:bold;\">&#160;·</span>  <a href=\"/wiki/Categoria:Gruppi_musicali_trap\" title=\"Categoria:Gruppi musicali trap\">Gruppi musicali trap</a><span style=\"font-weight:bold;\">&#160;·</span>  <a href=\"/wiki/Categoria:Musicisti_trap\" title=\"Categoria:Musicisti trap\">Musicisti trap</a><span style=\"font-weight:bold;\">&#160;·</span>  <a href=\"/wiki/Categoria:Disc_jockey_trap\" title=\"Categoria:Disc jockey trap\">Disc jockey trap</a><span style=\"font-weight:bold;\">&#160;·</span>  <a href=\"/wiki/Categoria:Album_trap\" title=\"Categoria:Album trap\">Album trap</a><span style=\"font-weight:bold;\">&#160;·</span>  <a href=\"/wiki/Categoria:EP_trap\" title=\"Categoria:EP trap\">EP trap</a><span style=\"font-weight:bold;\">&#160;·</span>  <a href=\"/wiki/Categoria:Singoli_trap\" title=\"Categoria:Singoli trap\">Singoli trap</a><span style=\"font-weight:bold;\">&#160;·</span>  <a href=\"/w/index.php?title=Categoria:Album_video_trap&amp;action=edit&amp;redlink=1\" class=\"new\" title=\"Categoria:Album video trap (la pagina non esiste)\">Album video trap</a><span style=\"font-weight:bold;\">&#160;·</span>  <a href=\"/wiki/Categoria:Brani_musicali_trap\" title=\"Categoria:Brani musicali trap\">Brani musicali trap</a>\n",
      "</p>\n",
      "<!-- \n",
      "NewPP limit report\n",
      "Parsed by mw1336\n",
      "Cached time: 20190309174137\n",
      "Cache expiry: 2592000\n",
      "Dynamic content: false\n",
      "CPU time usage: 0.024 seconds\n",
      "Real time usage: 0.029 seconds\n",
      "Preprocessor visited node count: 128/1000000\n",
      "Preprocessor generated node count: 0/1500000\n",
      "Post‐expand include size: 2573/2097152 bytes\n",
      "Template argument size: 196/2097152 bytes\n",
      "Highest expansion depth: 3/40\n",
      "Expensive parser function count: 0/500\n",
      "Unstrip recursion depth: 0/20\n",
      "Unstrip post‐expand size: 0/5000000 bytes\n",
      "Number of Wikibase entities loaded: 0/400\n",
      "-->\n",
      "<!--\n",
      "Transclusion expansion time report (%,ms,calls,template)\n",
      "100.00%   11.369      1 Template:CategoriaMusicale\n",
      "100.00%   11.369      1 -total\n",
      " 44.61%    5.071      9 Template:·\n",
      "-->\n",
      "\n",
      "<!-- Saved in parser cache with key itwiki:pcache:idhash:5439423-0!canonical and timestamp 20190309174137 and revision id 101188935\n",
      " -->\n",
      "</div><div class=\"mw-category-generated\" lang=\"it\" dir=\"ltr\"><div id=\"mw-pages\">\n",
      "<h2>Pagine nella categoria \"Cantanti trap\"</h2>\n",
      "<p>Questa categoria contiene le 85 pagine indicate di seguito, su un totale di 85.\n",
      "</p><div lang=\"it\" dir=\"ltr\" class=\"mw-content-ltr\"><div class=\"mw-category\"><div class=\"mw-category-group\"><h3>0–9</h3>\n",
      "<ul><li><a href=\"/wiki/6ix9ine\" title=\"6ix9ine\">6ix9ine</a></li>\n",
      "<li><a href=\"/wiki/21_Savage\" title=\"21 Savage\">21 Savage</a></li></ul></div><div class=\"mw-category-group\"><h3>A</h3>\n",
      "<ul><li><a href=\"/wiki/Anuel_AA\" title=\"Anuel AA\">Anuel AA</a></li>\n",
      "<li><a href=\"/wiki/ASAP_Rocky\" title=\"ASAP Rocky\">ASAP Rocky</a></li></ul></div><div class=\"mw-category-group\"><h3>B</h3>\n",
      "<ul><li><a href=\"/wiki/Bad_Bunny\" title=\"Bad Bunny\">Bad Bunny</a></li>\n",
      "<li><a href=\"/wiki/Bhad_Bhabie\" title=\"Bhad Bhabie\">Bhad Bhabie</a></li>\n",
      "<li><a href=\"/wiki/Birdman_(rapper)\" title=\"Birdman (rapper)\">Birdman (rapper)</a></li>\n",
      "<li><a href=\"/wiki/Booba\" title=\"Booba\">Booba</a></li>\n",
      "<li><a href=\"/wiki/Quando_Rondo\" title=\"Quando Rondo\">Quando Rondo</a></li></ul></div><div class=\"mw-category-group\"><h3>C</h3>\n",
      "<ul><li><a href=\"/wiki/Cardi_B\" title=\"Cardi B\">Cardi B</a></li>\n",
      "<li><a href=\"/wiki/Chanmina\" title=\"Chanmina\">Chanmina</a></li>\n",
      "<li><a href=\"/wiki/Chief_Keef\" title=\"Chief Keef\">Chief Keef</a></li>\n",
      "<li><a href=\"/wiki/CL_(cantante)\" title=\"CL (cantante)\">CL (cantante)</a></li></ul></div><div class=\"mw-category-group\"><h3>D</h3>\n",
      "<ul><li><a href=\"/wiki/Dej_Loaf\" title=\"Dej Loaf\">Dej Loaf</a></li>\n",
      "<li><a href=\"/wiki/DJ_Paul\" title=\"DJ Paul\">DJ Paul</a></li>\n",
      "<li><a href=\"/wiki/Duke_Montana\" title=\"Duke Montana\">Duke Montana</a></li></ul></div><div class=\"mw-category-group\"><h3>F</h3>\n",
      "<ul><li><a href=\"/wiki/Famous_Dex\" title=\"Famous Dex\">Famous Dex</a></li>\n",
      "<li><a href=\"/wiki/Fetty_Wap\" title=\"Fetty Wap\">Fetty Wap</a></li>\n",
      "<li><a href=\"/wiki/Frauenarzt\" title=\"Frauenarzt\">Frauenarzt</a></li>\n",
      "<li><a href=\"/wiki/Future_(rapper)\" title=\"Future (rapper)\">Future (rapper)</a></li></ul></div><div class=\"mw-category-group\"><h3>G</h3>\n",
      "<ul><li><a href=\"/wiki/Ghali_(rapper)\" title=\"Ghali (rapper)\">Ghali (rapper)</a></li>\n",
      "<li><a href=\"/wiki/Gradur\" title=\"Gradur\">Gradur</a></li>\n",
      "<li><a href=\"/wiki/Gucci_Mane\" title=\"Gucci Mane\">Gucci Mane</a></li></ul></div><div class=\"mw-category-group\"><h3>H</h3>\n",
      "<ul><li><a href=\"/wiki/Haftbefehl\" title=\"Haftbefehl\">Haftbefehl</a></li>\n",
      "<li><a href=\"/wiki/Ace_Hood\" title=\"Ace Hood\">Ace Hood</a></li></ul></div><div class=\"mw-category-group\"><h3>I</h3>\n",
      "<ul><li><a href=\"/wiki/Izi_(rapper)\" title=\"Izi (rapper)\">Izi (rapper)</a></li></ul></div><div class=\"mw-category-group\"><h3>J</h3>\n",
      "<ul><li><a href=\"/wiki/Jeezy\" title=\"Jeezy\">Jeezy</a></li>\n",
      "<li><a href=\"/wiki/Juice_Wrld\" title=\"Juice Wrld\">Juice Wrld</a></li>\n",
      "<li><a href=\"/wiki/Juicy_J\" title=\"Juicy J\">Juicy J</a></li></ul></div><div class=\"mw-category-group\"><h3>K</h3>\n",
      "<ul><li><a href=\"/wiki/Kaaris\" title=\"Kaaris\">Kaaris</a></li>\n",
      "<li><a href=\"/wiki/Keith_Ape\" title=\"Keith Ape\">Keith Ape</a></li>\n",
      "<li><a href=\"/wiki/Ketama126\" title=\"Ketama126\">Ketama126</a></li>\n",
      "<li><a href=\"/wiki/Wiz_Khalifa\" title=\"Wiz Khalifa\">Wiz Khalifa</a></li>\n",
      "<li><a href=\"/wiki/Kid_Kaze\" title=\"Kid Kaze\">Kid Kaze</a></li></ul></div><div class=\"mw-category-group\"><h3>L</h3>\n",
      "<ul><li><a href=\"/wiki/Lacrim\" title=\"Lacrim\">Lacrim</a></li>\n",
      "<li><a href=\"/wiki/La%C3%AFoung\" title=\"Laïoung\">Laïoung</a></li>\n",
      "<li><a href=\"/wiki/Achille_Lauro_(rapper)\" title=\"Achille Lauro (rapper)\">Achille Lauro (rapper)</a></li>\n",
      "<li><a href=\"/wiki/Lil_B\" title=\"Lil B\">Lil B</a></li>\n",
      "<li><a href=\"/wiki/Lil_Baby\" title=\"Lil Baby\">Lil Baby</a></li>\n",
      "<li><a href=\"/wiki/Lil_Pump\" title=\"Lil Pump\">Lil Pump</a></li>\n",
      "<li><a href=\"/wiki/Lil_Skies\" title=\"Lil Skies\">Lil Skies</a></li>\n",
      "<li><a href=\"/wiki/Lil_Uzi_Vert\" title=\"Lil Uzi Vert\">Lil Uzi Vert</a></li>\n",
      "<li><a href=\"/wiki/Lil_Wayne\" title=\"Lil Wayne\">Lil Wayne</a></li>\n",
      "<li><a href=\"/wiki/Lil_Yachty\" title=\"Lil Yachty\">Lil Yachty</a></li>\n",
      "<li><a href=\"/wiki/Lord_Infamous\" title=\"Lord Infamous\">Lord Infamous</a></li></ul></div><div class=\"mw-category-group\"><h3>M</h3>\n",
      "<ul><li><a href=\"/wiki/MadeinTYO\" title=\"MadeinTYO\">MadeinTYO</a></li>\n",
      "<li><a href=\"/wiki/Meek_Mill\" title=\"Meek Mill\">Meek Mill</a></li>\n",
      "<li><a href=\"/wiki/Mino_(rapper)\" title=\"Mino (rapper)\">Mino (rapper)</a></li>\n",
      "<li><a href=\"/wiki/Stella_Mwangi\" title=\"Stella Mwangi\">Stella Mwangi</a></li></ul></div><div class=\"mw-category-group\"><h3>N</h3>\n",
      "<ul><li><a href=\"/wiki/Niska\" title=\"Niska\">Niska</a></li></ul></div><div class=\"mw-category-group\"><h3>O</h3>\n",
      "<ul><li><a href=\"/wiki/O.T._Genasis\" title=\"O.T. Genasis\">O.T. Genasis</a></li>\n",
      "<li><a href=\"/wiki/Offset_(rapper)\" title=\"Offset (rapper)\">Offset (rapper)</a></li>\n",
      "<li><a href=\"/wiki/Ozuna\" title=\"Ozuna\">Ozuna</a></li></ul></div><div class=\"mw-category-group\"><h3>P</h3>\n",
      "<ul><li><a href=\"/wiki/PartyNextDoor\" title=\"PartyNextDoor\">PartyNextDoor</a></li>\n",
      "<li><a href=\"/wiki/Project_Pat\" title=\"Project Pat\">Project Pat</a></li></ul></div><div class=\"mw-category-group\"><h3>Q</h3>\n",
      "<ul><li><a href=\"/wiki/Quavo\" title=\"Quavo\">Quavo</a></li></ul></div><div class=\"mw-category-group\"><h3>R</h3>\n",
      "<ul><li><a href=\"/wiki/Alem%C3%A1n\" title=\"Alemán\">Alemán</a></li>\n",
      "<li><a href=\"/wiki/Lil_Reese\" title=\"Lil Reese\">Lil Reese</a></li>\n",
      "<li><a href=\"/wiki/Rich_the_Kid\" title=\"Rich the Kid\">Rich the Kid</a></li>\n",
      "<li><a href=\"/wiki/Dawn_Richard\" title=\"Dawn Richard\">Dawn Richard</a></li>\n",
      "<li><a href=\"/wiki/Rick_Ross\" title=\"Rick Ross\">Rick Ross</a></li>\n",
      "<li><a href=\"/wiki/Robb_Banks\" title=\"Robb Banks\">Robb Banks</a></li>\n",
      "<li><a href=\"/wiki/Rvssian\" title=\"Rvssian\">Rvssian</a></li></ul></div><div class=\"mw-category-group\"><h3>S</h3>\n",
      "<ul><li><a href=\"/wiki/SCH_(rapper)\" title=\"SCH (rapper)\">SCH (rapper)</a></li>\n",
      "<li><a href=\"/wiki/SD_(rapper)\" title=\"SD (rapper)\">SD (rapper)</a></li>\n",
      "<li><a href=\"/wiki/Desiigner\" title=\"Desiigner\">Desiigner</a></li>\n",
      "<li><a href=\"/wiki/Shawty_Lo\" title=\"Shawty Lo\">Shawty Lo</a></li>\n",
      "<li><a href=\"/wiki/Sheck_Wes\" title=\"Sheck Wes\">Sheck Wes</a></li>\n",
      "<li><a href=\"/wiki/Jaden_Smith\" title=\"Jaden Smith\">Jaden Smith</a></li>\n",
      "<li><a href=\"/wiki/Smokepurpp\" title=\"Smokepurpp\">Smokepurpp</a></li>\n",
      "<li><a href=\"/wiki/Soulja_Boy\" title=\"Soulja Boy\">Soulja Boy</a></li>\n",
      "<li><a href=\"/wiki/Ronny_J\" title=\"Ronny J\">Ronny J</a></li></ul></div><div class=\"mw-category-group\"><h3>T</h3>\n",
      "<ul><li><a href=\"/wiki/T.I.\" title=\"T.I.\">T.I.</a></li>\n",
      "<li><a href=\"/wiki/Takeoff\" title=\"Takeoff\">Takeoff</a></li>\n",
      "<li><a href=\"/wiki/Tay-K\" title=\"Tay-K\">Tay-K</a></li>\n",
      "<li><a href=\"/wiki/Tedua\" title=\"Tedua\">Tedua</a></li>\n",
      "<li><a href=\"/wiki/Bryson_Tiller\" title=\"Bryson Tiller\">Bryson Tiller</a></li>\n",
      "<li><a href=\"/wiki/Lil_Tracy\" title=\"Lil Tracy\">Lil Tracy</a></li>\n",
      "<li><a href=\"/wiki/Travis_Scott\" title=\"Travis Scott\">Travis Scott</a></li></ul></div><div class=\"mw-category-group\"><h3>V</h3>\n",
      "<ul><li><a href=\"/wiki/Vacca_(rapper)\" title=\"Vacca (rapper)\">Vacca (rapper)</a></li></ul></div><div class=\"mw-category-group\"><h3>W</h3>\n",
      "<ul><li><a href=\"/wiki/Waka_Flocka_Flame\" title=\"Waka Flocka Flame\">Waka Flocka Flame</a></li>\n",
      "<li><a href=\"/wiki/Wifisfuneral\" title=\"Wifisfuneral\">Wifisfuneral</a></li></ul></div><div class=\"mw-category-group\"><h3>X</h3>\n",
      "<ul><li><a href=\"/wiki/Lil_Xan\" title=\"Lil Xan\">Lil Xan</a></li></ul></div><div class=\"mw-category-group\"><h3>Y</h3>\n",
      "<ul><li><a href=\"/wiki/YNW_Melly\" title=\"YNW Melly\">YNW Melly</a></li>\n",
      "<li><a href=\"/wiki/Yo_Gotti\" title=\"Yo Gotti\">Yo Gotti</a></li></ul></div></div></div>\n",
      "</div></div><noscript><img src=\"//it.wikipedia.org/wiki/Special:CentralAutoLogin/start?type=1x1\" alt=\"\" title=\"\" width=\"1\" height=\"1\" style=\"border: none; position: absolute;\" /></noscript></div>\t\t\t\t\t<div class=\"printfooter\">\n",
      "\t\t\t\t\t\tEstratto da \"<a dir=\"ltr\" href=\"https://it.wikipedia.org/w/index.php?title=Categoria:Cantanti_trap&amp;oldid=101188935\">https://it.wikipedia.org/w/index.php?title=Categoria:Cantanti_trap&amp;oldid=101188935</a>\"\t\t\t\t\t</div>\n",
      "\t\t\t\t<div id=\"catlinks\" class=\"catlinks\" data-mw=\"interface\"><div id=\"mw-normal-catlinks\" class=\"mw-normal-catlinks\"><a href=\"/wiki/Categoria:Categorie\" title=\"Categoria:Categorie\">Categorie</a>: <ul><li><a href=\"/wiki/Categoria:Cantanti_hip_hop\" title=\"Categoria:Cantanti hip hop\">Cantanti hip hop</a></li><li><a href=\"/wiki/Categoria:Musicisti_trap\" title=\"Categoria:Musicisti trap\">Musicisti trap</a></li></ul></div></div>\t\t\t\t<div class=\"visualClear\"></div>\n",
      "\t\t\t\t\t\t\t</div>\n",
      "\t\t</div>\n",
      "\t\t<div id=\"mw-navigation\">\n",
      "\t\t\t<h2>Menu di navigazione</h2>\n",
      "\t\t\t<div id=\"mw-head\">\n",
      "\t\t\t\t\t\t\t\t\t<div id=\"p-personal\" role=\"navigation\" aria-labelledby=\"p-personal-label\">\n",
      "\t\t\t\t\t\t<h3 id=\"p-personal-label\">Strumenti personali</h3>\n",
      "\t\t\t\t\t\t<ul>\n",
      "\t\t\t\t\t\t\t<li id=\"pt-anonuserpage\">Accesso non effettuato</li><li id=\"pt-anontalk\"><a href=\"/wiki/Speciale:MieDiscussioni\" title=\"Discussioni sulle modifiche fatte da questo indirizzo IP [n]\" accesskey=\"n\">discussioni</a></li><li id=\"pt-anoncontribs\"><a href=\"/wiki/Speciale:MieiContributi\" title=\"Un elenco delle modifiche fatte da questo indirizzo IP [y]\" accesskey=\"y\">contributi</a></li><li id=\"pt-createaccount\"><a href=\"/w/index.php?title=Speciale:CreaUtenza&amp;returnto=Categoria%3ACantanti+trap\" title=\"Si consiglia di registrarsi e di effettuare l&#039;accesso, anche se non è obbligatorio\">registrati</a></li><li id=\"pt-login\"><a href=\"/w/index.php?title=Speciale:Entra&amp;returnto=Categoria%3ACantanti+trap\" title=\"Si consiglia di effettuare l&#039;accesso, anche se non è obbligatorio [o]\" accesskey=\"o\">entra</a></li>\t\t\t\t\t\t</ul>\n",
      "\t\t\t\t\t</div>\n",
      "\t\t\t\t\t\t\t\t\t<div id=\"left-navigation\">\n",
      "\t\t\t\t\t\t\t\t\t\t<div id=\"p-namespaces\" role=\"navigation\" class=\"vectorTabs\" aria-labelledby=\"p-namespaces-label\">\n",
      "\t\t\t\t\t\t<h3 id=\"p-namespaces-label\">Namespace</h3>\n",
      "\t\t\t\t\t\t<ul>\n",
      "\t\t\t\t\t\t\t<li id=\"ca-nstab-category\" class=\"selected\"><span><a href=\"/wiki/Categoria:Cantanti_trap\" title=\"Vedi la pagina della categoria [c]\" accesskey=\"c\">Categoria</a></span></li><li id=\"ca-talk\" class=\"new\"><span><a href=\"/w/index.php?title=Discussioni_categoria:Cantanti_trap&amp;action=edit&amp;redlink=1\" rel=\"discussion\" title=\"Vedi le discussioni relative a questa pagina (la pagina non esiste) [t]\" accesskey=\"t\">Discussione</a></span></li>\t\t\t\t\t\t</ul>\n",
      "\t\t\t\t\t</div>\n",
      "\t\t\t\t\t\t\t\t\t\t<div id=\"p-variants\" role=\"navigation\" class=\"vectorMenu emptyPortlet\" aria-labelledby=\"p-variants-label\">\n",
      "\t\t\t\t\t\t\t\t\t\t\t\t<input type=\"checkbox\" class=\"vectorMenuCheckbox\" aria-labelledby=\"p-variants-label\" />\n",
      "\t\t\t\t\t\t<h3 id=\"p-variants-label\">\n",
      "\t\t\t\t\t\t\t<span>Varianti</span>\n",
      "\t\t\t\t\t\t</h3>\n",
      "\t\t\t\t\t\t<ul class=\"menu\">\n",
      "\t\t\t\t\t\t\t\t\t\t\t\t\t</ul>\n",
      "\t\t\t\t\t</div>\n",
      "\t\t\t\t\t\t\t\t\t</div>\n",
      "\t\t\t\t<div id=\"right-navigation\">\n",
      "\t\t\t\t\t\t\t\t\t\t<div id=\"p-views\" role=\"navigation\" class=\"vectorTabs\" aria-labelledby=\"p-views-label\">\n",
      "\t\t\t\t\t\t<h3 id=\"p-views-label\">Visite</h3>\n",
      "\t\t\t\t\t\t<ul>\n",
      "\t\t\t\t\t\t\t<li id=\"ca-view\" class=\"collapsible selected\"><span><a href=\"/wiki/Categoria:Cantanti_trap\">Leggi</a></span></li><li id=\"ca-ve-edit\" class=\"collapsible\"><span><a href=\"/w/index.php?title=Categoria:Cantanti_trap&amp;veaction=edit\" title=\"Modifica questa pagina [v]\" accesskey=\"v\">Modifica</a></span></li><li id=\"ca-edit\" class=\"collapsible\"><span><a href=\"/w/index.php?title=Categoria:Cantanti_trap&amp;action=edit\" title=\"Modifica questa pagina [e]\" accesskey=\"e\">Modifica wikitesto</a></span></li><li id=\"ca-history\" class=\"collapsible\"><span><a href=\"/w/index.php?title=Categoria:Cantanti_trap&amp;action=history\" title=\"Versioni precedenti di questa pagina [h]\" accesskey=\"h\">Cronologia</a></span></li>\t\t\t\t\t\t</ul>\n",
      "\t\t\t\t\t</div>\n",
      "\t\t\t\t\t\t\t\t\t\t<div id=\"p-cactions\" role=\"navigation\" class=\"vectorMenu emptyPortlet\" aria-labelledby=\"p-cactions-label\">\n",
      "\t\t\t\t\t\t<input type=\"checkbox\" class=\"vectorMenuCheckbox\" aria-labelledby=\"p-cactions-label\" />\n",
      "\t\t\t\t\t\t<h3 id=\"p-cactions-label\"><span>Altro</span></h3>\n",
      "\t\t\t\t\t\t<ul class=\"menu\">\n",
      "\t\t\t\t\t\t\t\t\t\t\t\t\t</ul>\n",
      "\t\t\t\t\t</div>\n",
      "\t\t\t\t\t\t\t\t\t\t<div id=\"p-search\" role=\"search\">\n",
      "\t\t\t\t\t\t<h3>\n",
      "\t\t\t\t\t\t\t<label for=\"searchInput\">Ricerca</label>\n",
      "\t\t\t\t\t\t</h3>\n",
      "\t\t\t\t\t\t<form action=\"/w/index.php\" id=\"searchform\">\n",
      "\t\t\t\t\t\t\t<div id=\"simpleSearch\">\n",
      "\t\t\t\t\t\t\t\t<input type=\"search\" name=\"search\" placeholder=\"Cerca in Wikipedia\" title=\"Cerca in Wikipedia [f]\" accesskey=\"f\" id=\"searchInput\"/><input type=\"hidden\" value=\"Speciale:Ricerca\" name=\"title\"/><input type=\"submit\" name=\"fulltext\" value=\"Ricerca\" title=\"Cerca il testo indicato nelle pagine\" id=\"mw-searchButton\" class=\"searchButton mw-fallbackSearchButton\"/><input type=\"submit\" name=\"go\" value=\"Vai\" title=\"Vai a una pagina con il titolo indicato, se esiste\" id=\"searchButton\" class=\"searchButton\"/>\t\t\t\t\t\t\t</div>\n",
      "\t\t\t\t\t\t</form>\n",
      "\t\t\t\t\t</div>\n",
      "\t\t\t\t\t\t\t\t\t</div>\n",
      "\t\t\t</div>\n",
      "\t\t\t<div id=\"mw-panel\">\n",
      "\t\t\t\t<div id=\"p-logo\" role=\"banner\"><a class=\"mw-wiki-logo\" href=\"/wiki/Pagina_principale\" title=\"Visita la pagina principale\"></a></div>\n",
      "\t\t\t\t\t\t<div class=\"portal\" role=\"navigation\" id=\"p-navigation\" aria-labelledby=\"p-navigation-label\">\n",
      "\t\t\t<h3 id=\"p-navigation-label\">Navigazione</h3>\n",
      "\t\t\t<div class=\"body\">\n",
      "\t\t\t\t\t\t\t\t<ul>\n",
      "\t\t\t\t\t<li id=\"n-mainpage\"><a href=\"/wiki/Pagina_principale\" title=\"Visita la pagina principale [z]\" accesskey=\"z\">Pagina principale</a></li><li id=\"n-recentchanges\"><a href=\"/wiki/Speciale:UltimeModifiche\" title=\"Elenco delle ultime modifiche del sito [r]\" accesskey=\"r\">Ultime modifiche</a></li><li id=\"n-randompage\"><a href=\"/wiki/Speciale:PaginaCasuale\" title=\"Mostra una pagina a caso [x]\" accesskey=\"x\">Una voce a caso</a></li><li id=\"n-mobile-frontend-nearby-title\"><a href=\"/wiki/Speciale:NelleVicinanze\">Nelle vicinanze</a></li><li id=\"n-vetrina\"><a href=\"/wiki/Wikipedia:Vetrina\">Vetrina</a></li><li id=\"n-help\"><a href=\"/wiki/Aiuto:Aiuto\" title=\"Pagine di aiuto\">Aiuto</a></li><li id=\"n-Sportello-informazioni\"><a href=\"/wiki/Aiuto:Sportello_informazioni\">Sportello informazioni</a></li>\t\t\t\t</ul>\n",
      "\t\t\t\t\t\t\t</div>\n",
      "\t\t</div>\n",
      "\t\t\t<div class=\"portal\" role=\"navigation\" id=\"p-Comunità\" aria-labelledby=\"p-Comunità-label\">\n",
      "\t\t\t<h3 id=\"p-Comunità-label\">Comunità</h3>\n",
      "\t\t\t<div class=\"body\">\n",
      "\t\t\t\t\t\t\t\t<ul>\n",
      "\t\t\t\t\t<li id=\"n-portal\"><a href=\"/wiki/Portale:Comunit%C3%A0\" title=\"Descrizione del progetto, cosa puoi fare, dove trovare le cose\">Portale Comunità</a></li><li id=\"n-villagepump\"><a href=\"/wiki/Wikipedia:Bar\">Bar</a></li><li id=\"n-wikipediano\"><a href=\"/wiki/Wikipedia:Wikipediano\">Il Wikipediano</a></li><li id=\"n-sitesupport\"><a href=\"//donate.wikimedia.org/wiki/Special:FundraiserRedirector?utm_source=donate&amp;utm_medium=sidebar&amp;utm_campaign=C13_it.wikipedia.org&amp;uselang=it\" title=\"Sostienici\">Fai una donazione</a></li><li id=\"n-contactpage\"><a href=\"/wiki/Wikipedia:Contatti\">Contatti</a></li>\t\t\t\t</ul>\n",
      "\t\t\t\t\t\t\t</div>\n",
      "\t\t</div>\n",
      "\t\t\t<div class=\"portal\" role=\"navigation\" id=\"p-tb\" aria-labelledby=\"p-tb-label\">\n",
      "\t\t\t<h3 id=\"p-tb-label\">Strumenti</h3>\n",
      "\t\t\t<div class=\"body\">\n",
      "\t\t\t\t\t\t\t\t<ul>\n",
      "\t\t\t\t\t<li id=\"t-whatlinkshere\"><a href=\"/wiki/Speciale:PuntanoQui/Categoria:Cantanti_trap\" title=\"Elenco di tutte le pagine che sono collegate a questa [j]\" accesskey=\"j\">Puntano qui</a></li><li id=\"t-recentchangeslinked\"><a href=\"/wiki/Speciale:ModificheCorrelate/Categoria:Cantanti_trap\" rel=\"nofollow\" title=\"Elenco delle ultime modifiche alle pagine collegate a questa [k]\" accesskey=\"k\">Modifiche correlate</a></li><li id=\"t-specialpages\"><a href=\"/wiki/Speciale:PagineSpeciali\" title=\"Elenco di tutte le pagine speciali [q]\" accesskey=\"q\">Pagine speciali</a></li><li id=\"t-permalink\"><a href=\"/w/index.php?title=Categoria:Cantanti_trap&amp;oldid=101188935\" title=\"Collegamento permanente a questa versione della pagina\">Link permanente</a></li><li id=\"t-info\"><a href=\"/w/index.php?title=Categoria:Cantanti_trap&amp;action=info\" title=\"Ulteriori informazioni su questa pagina\">Informazioni pagina</a></li><li id=\"t-wikibase\"><a href=\"https://www.wikidata.org/wiki/Special:EntityPage/Q19857999\" title=\"Collegamento all&#039;elemento connesso dell&#039;archivio dati [g]\" accesskey=\"g\">Elemento Wikidata</a></li>\t\t\t\t</ul>\n",
      "\t\t\t\t\t\t\t</div>\n",
      "\t\t</div>\n",
      "\t\t\t<div class=\"portal\" role=\"navigation\" id=\"p-coll-print_export\" aria-labelledby=\"p-coll-print_export-label\">\n",
      "\t\t\t<h3 id=\"p-coll-print_export-label\">Stampa/esporta</h3>\n",
      "\t\t\t<div class=\"body\">\n",
      "\t\t\t\t\t\t\t\t<ul>\n",
      "\t\t\t\t\t<li id=\"coll-create_a_book\"><a href=\"/w/index.php?title=Speciale:Libro&amp;bookcmd=book_creator&amp;referer=Categoria%3ACantanti+trap\">Crea un libro</a></li><li id=\"coll-download-as-rdf2latex\"><a href=\"/w/index.php?title=Speciale:ElectronPdf&amp;page=Categoria%3ACantanti+trap&amp;action=show-download-screen\">Scarica come PDF</a></li><li id=\"t-print\"><a href=\"/w/index.php?title=Categoria:Cantanti_trap&amp;printable=yes\" title=\"Versione stampabile di questa pagina [p]\" accesskey=\"p\">Versione stampabile</a></li>\t\t\t\t</ul>\n",
      "\t\t\t\t\t\t\t</div>\n",
      "\t\t</div>\n",
      "\t\t\t<div class=\"portal\" role=\"navigation\" id=\"p-lang\" aria-labelledby=\"p-lang-label\">\n",
      "\t\t\t<h3 id=\"p-lang-label\">In altre lingue</h3>\n",
      "\t\t\t<div class=\"body\">\n",
      "\t\t\t\t\t\t\t\t<ul>\n",
      "\t\t\t\t\t<li class=\"interlanguage-link interwiki-ca\"><a href=\"https://ca.wikipedia.org/wiki/Categoria:Cantants_de_trap\" title=\"Categoria:Cantants de trap - catalano\" lang=\"ca\" hreflang=\"ca\" class=\"interlanguage-link-target\">Català</a></li><li class=\"interlanguage-link interwiki-es\"><a href=\"https://es.wikipedia.org/wiki/Categor%C3%ADa:Cantantes_de_trap\" title=\"Categoría:Cantantes de trap - spagnolo\" lang=\"es\" hreflang=\"es\" class=\"interlanguage-link-target\">Español</a></li>\t\t\t\t</ul>\n",
      "\t\t\t\t<div class=\"after-portlet after-portlet-lang\"><span class=\"wb-langlinks-edit wb-langlinks-link\"><a href=\"https://www.wikidata.org/wiki/Special:EntityPage/Q19857999#sitelinks-wikipedia\" title=\"Modifica collegamenti interlinguistici\" class=\"wbc-editpage\">Modifica collegamenti</a></span></div>\t\t\t</div>\n",
      "\t\t</div>\n",
      "\t\t\t\t</div>\n",
      "\t\t</div>\n",
      "\t\t\t\t<div id=\"footer\" role=\"contentinfo\">\n",
      "\t\t\t\t\t\t<ul id=\"footer-info\">\n",
      "\t\t\t\t\t\t\t\t<li id=\"footer-info-lastmod\"> Questa pagina è stata modificata per l'ultima volta il&#160;25 nov 2018 alle 16:42.</li>\n",
      "\t\t\t\t\t\t\t\t<li id=\"footer-info-copyright\">Il testo è disponibile secondo la <a href=\"https://creativecommons.org/licenses/by-sa/3.0/deed.it\">licenza Creative Commons Attribuzione-Condividi allo stesso modo</a>; possono applicarsi condizioni ulteriori. Vedi le <a href=\"https://foundation.wikimedia.org/wiki/Special:MyLanguage/Terms_of_Use/it\">condizioni d'uso</a> per i dettagli.</li>\n",
      "\t\t\t\t\t\t\t</ul>\n",
      "\t\t\t\t\t\t<ul id=\"footer-places\">\n",
      "\t\t\t\t\t\t\t\t<li id=\"footer-places-privacy\"><a href=\"https://meta.wikimedia.org/wiki/Privacy_policy/it\" class=\"extiw\" title=\"m:Privacy policy/it\">Informativa sulla privacy</a></li>\n",
      "\t\t\t\t\t\t\t\t<li id=\"footer-places-about\"><a href=\"/wiki/Wikipedia:Sala_stampa/Wikipedia\" title=\"Wikipedia:Sala stampa/Wikipedia\">Informazioni su Wikipedia</a></li>\n",
      "\t\t\t\t\t\t\t\t<li id=\"footer-places-disclaimer\"><a href=\"/wiki/Wikipedia:Avvertenze_generali\" title=\"Wikipedia:Avvertenze generali\">Avvertenze</a></li>\n",
      "\t\t\t\t\t\t\t\t<li id=\"footer-places-developers\"><a href=\"https://www.mediawiki.org/wiki/Special:MyLanguage/How_to_contribute\">Sviluppatori</a></li>\n",
      "\t\t\t\t\t\t\t\t<li id=\"footer-places-cookiestatement\"><a href=\"https://foundation.wikimedia.org/wiki/Cookie_statement\">Dichiarazione sui cookie</a></li>\n",
      "\t\t\t\t\t\t\t\t<li id=\"footer-places-mobileview\"><a href=\"//it.m.wikipedia.org/w/index.php?title=Categoria:Cantanti_trap&amp;mobileaction=toggle_view_mobile\" class=\"noprint stopMobileRedirectToggle\">Versione mobile</a></li>\n",
      "\t\t\t\t\t\t\t</ul>\n",
      "\t\t\t\t\t\t\t\t\t\t<ul id=\"footer-icons\" class=\"noprint\">\n",
      "\t\t\t\t\t\t\t\t\t\t<li id=\"footer-copyrightico\">\n",
      "\t\t\t\t\t\t<a href=\"https://wikimediafoundation.org/\"><img src=\"/static/images/wikimedia-button.png\" srcset=\"/static/images/wikimedia-button-1.5x.png 1.5x, /static/images/wikimedia-button-2x.png 2x\" width=\"88\" height=\"31\" alt=\"Wikimedia Foundation\"/></a>\t\t\t\t\t</li>\n",
      "\t\t\t\t\t\t\t\t\t\t<li id=\"footer-poweredbyico\">\n",
      "\t\t\t\t\t\t<a href=\"//www.mediawiki.org/\"><img src=\"/static/images/poweredby_mediawiki_88x31.png\" alt=\"Powered by MediaWiki\" srcset=\"/static/images/poweredby_mediawiki_132x47.png 1.5x, /static/images/poweredby_mediawiki_176x62.png 2x\" width=\"88\" height=\"31\"/></a>\t\t\t\t\t</li>\n",
      "\t\t\t\t\t\t\t\t\t</ul>\n",
      "\t\t\t\t\t\t<div style=\"clear: both;\"></div>\n",
      "\t\t</div>\n",
      "\t\t\n",
      "<script>(window.RLQ=window.RLQ||[]).push(function(){mw.config.set({\"wgPageParseReport\":{\"limitreport\":{\"cputime\":\"0.024\",\"walltime\":\"0.029\",\"ppvisitednodes\":{\"value\":128,\"limit\":1000000},\"ppgeneratednodes\":{\"value\":0,\"limit\":1500000},\"postexpandincludesize\":{\"value\":2573,\"limit\":2097152},\"templateargumentsize\":{\"value\":196,\"limit\":2097152},\"expansiondepth\":{\"value\":3,\"limit\":40},\"expensivefunctioncount\":{\"value\":0,\"limit\":500},\"unstrip-depth\":{\"value\":0,\"limit\":20},\"unstrip-size\":{\"value\":0,\"limit\":5000000},\"entityaccesscount\":{\"value\":0,\"limit\":400},\"timingprofile\":[\"100.00%   11.369      1 Template:CategoriaMusicale\",\"100.00%   11.369      1 -total\",\" 44.61%    5.071      9 Template:·\"]},\"cachereport\":{\"origin\":\"mw1336\",\"timestamp\":\"20190309174137\",\"ttl\":2592000,\"transientcontent\":false}}});mw.config.set({\"wgBackendResponseTime\":150,\"wgHostname\":\"mw1320\"});});</script>\n",
      "\t</body>\n",
      "</html>\n",
      "\n"
     ]
    }
   ],
   "source": [
    "print(r.text)"
   ]
  },
  {
   "cell_type": "markdown",
   "metadata": {},
   "source": [
    "Next, we need to parse this text with bs4, to make the html tags easy to navitage and their contents easy to access:"
   ]
  },
  {
   "cell_type": "code",
   "execution_count": 4,
   "metadata": {},
   "outputs": [
    {
     "name": "stdout",
     "output_type": "stream",
     "text": [
      "<!DOCTYPE html>\n",
      "<html class=\"client-nojs\" dir=\"ltr\" lang=\"it\">\n",
      "<head>\n",
      "<meta charset=\"utf-8\"/>\n",
      "<title>Categoria:Cantanti trap - Wikipedia</title>\n",
      "<script>document.documentElement.className = document.documentElement.className.replace( /(^|\\s)client-nojs(\\s|$)/, \"$1client-js$2\" );</script>\n",
      "<script>(window.RLQ=window.RLQ||[]).push(function(){mw.config.set({\"wgCanonicalNamespace\":\"Category\",\"wgCanonicalSpecialPageName\":false,\"wgNamespaceNumber\":14,\"wgPageName\":\"Categoria:Cantanti_trap\",\"wgTitle\":\"Cantanti trap\",\"wgCurRevisionId\":101188935,\"wgRevisionId\":101188935,\"wgArticleId\":5439423,\"wgIsArticle\":true,\"wgIsRedirect\":false,\"wgAction\":\"view\",\"wgUserName\":null,\"wgUserGroups\":[\"*\"],\"wgCategories\":[\"Cantanti hip hop\",\"Musicisti trap\"],\"wgBreakFrames\":false,\"wgPageContentLanguage\":\"it\",\"wgPageContentModel\":\"wikitext\",\"wgSeparatorTransformTable\":[\",\\t.\",\" \\t,\"],\"wgDigitTransformTable\":[\"\",\"\"],\"wgDefaultDateFormat\":\"dmy\",\"wgMonthNames\":[\"\",\"gennaio\",\"febbraio\",\"marzo\",\"aprile\",\"maggio\",\"giugno\",\"luglio\",\"agosto\",\"settembre\",\"ottobre\",\"novembre\",\"dicembre\"],\"wgMonthNamesShort\":[\"\",\"gen\",\"feb\",\"mar\",\"apr\",\"mag\",\"giu\",\"lug\",\"ago\",\"set\",\"ott\",\"nov\",\"dic\"],\"wgRelevantPageName\":\"Categoria:Cantanti_trap\",\"wgRelevantArticleId\":5439423,\"wgRequestId\":\"XISFGgpAICkAABRDLqEAAABD\",\"wgCSPNonce\":false,\"wgIsProbablyEditable\":true,\"wgRelevantPageIsProbablyEditable\":true,\"wgRestrictionEdit\":[],\"wgRestrictionMove\":[],\"wgCategoryTreePageCategoryOptions\":\"{\\\"mode\\\":0,\\\"hideprefix\\\":20,\\\"showcount\\\":true,\\\"namespaces\\\":false}\",\"wgWikiEditorEnabledModules\":[],\"wgBetaFeaturesFeatures\":[],\"wgMediaViewerOnClick\":true,\"wgMediaViewerEnabledByDefault\":true,\"wgPopupsReferencePreviews\":false,\"wgPopupsShouldSendModuleToUser\":true,\"wgPopupsConflictsWithNavPopupGadget\":false,\"wgVisualEditor\":{\"pageLanguageCode\":\"it\",\"pageLanguageDir\":\"ltr\",\"pageVariantFallbacks\":\"it\",\"usePageImages\":true,\"usePageDescriptions\":true},\"wgMFIsPageContentModelEditable\":true,\"wgMFEnableFontChanger\":true,\"wgMFDisplayWikibaseDescriptions\":{\"search\":true,\"nearby\":true,\"watchlist\":true,\"tagline\":true},\"wgRelatedArticles\":null,\"wgRelatedArticlesUseCirrusSearch\":true,\"wgRelatedArticlesOnlyUseCirrusSearch\":false,\"wgWMESchemaEditAttemptStepOversample\":false,\"wgPoweredByHHVM\":true,\"wgULSCurrentAutonym\":\"italiano\",\"wgNoticeProject\":\"wikipedia\",\"wgCentralNoticeCookiesToDelete\":[],\"wgCentralNoticeCategoriesUsingLegacy\":[\"Fundraising\",\"fundraising\"],\"wgWikibaseItemId\":\"Q19857999\",\"wgScoreNoteLanguages\":{\"arabic\":\"العربية\",\"catalan\":\"català\",\"deutsch\":\"Deutsch\",\"english\":\"English\",\"espanol\":\"español\",\"italiano\":\"italiano\",\"nederlands\":\"Nederlands\",\"norsk\":\"norsk\",\"portugues\":\"português\",\"suomi\":\"suomi\",\"svenska\":\"svenska\",\"vlaams\":\"West-Vlams\"},\"wgScoreDefaultNoteLanguage\":\"nederlands\",\"wgCentralAuthMobileDomain\":false,\"wgCodeMirrorEnabled\":true,\"wgVisualEditorToolbarScrollOffset\":0,\"wgVisualEditorUnsupportedEditParams\":[\"undo\",\"undoafter\",\"veswitched\"],\"wgEditSubmitButtonLabelPublish\":true,\"oresWikiId\":\"itwiki\",\"oresBaseUrl\":\"http://ores.discovery.wmnet:8081/\",\"oresApiVersion\":3});mw.loader.state({\"ext.gadget.PDCStriker\":\"ready\",\"ext.globalCssJs.user.styles\":\"ready\",\"ext.globalCssJs.site.styles\":\"ready\",\"site.styles\":\"ready\",\"noscript\":\"ready\",\"user.styles\":\"ready\",\"ext.globalCssJs.user\":\"ready\",\"ext.globalCssJs.site\":\"ready\",\"user\":\"ready\",\"user.options\":\"loading\",\"user.tokens\":\"loading\",\"mediawiki.action.view.categoryPage.styles\":\"ready\",\"mediawiki.helplink\":\"ready\",\"mediawiki.legacy.shared\":\"ready\",\"mediawiki.legacy.commonPrint\":\"ready\",\"wikibase.client.init\":\"ready\",\"ext.visualEditor.desktopArticleTarget.noscript\":\"ready\",\"ext.uls.interlanguage\":\"ready\",\"ext.wikimediaBadges\":\"ready\",\"ext.3d.styles\":\"ready\",\"ext.tmh.thumbnail.styles\":\"ready\",\"mediawiki.skinning.interface\":\"ready\",\"skins.vector.styles\":\"ready\"});mw.loader.implement(\"user.options@1mrx54z\",function($,jQuery,require,module){/*@nomin*/mw.user.options.set({\"variant\":\"it\"});\n",
      "});mw.loader.implement(\"user.tokens@0tffind\",function($,jQuery,require,module){/*@nomin*/mw.user.tokens.set({\"editToken\":\"+\\\\\",\"patrolToken\":\"+\\\\\",\"watchToken\":\"+\\\\\",\"csrfToken\":\"+\\\\\"});\n",
      "});RLPAGEMODULES=[\"site\",\"mediawiki.page.startup\",\"mediawiki.page.ready\",\"mediawiki.searchSuggest\",\"ext.gadget.HiddenCat\",\"ext.gadget.watchlist-notice\",\"ext.gadget.OpenStreetMap\",\"ext.gadget.ReferenceTooltips\",\"ext.gadget.WikiMiniAtlas\",\"ext.gadget.ExternalSearch\",\"ext.gadget.Form-valutazione-enc\",\"ext.gadget.NewSection\",\"ext.gadget.SimilarTitles\",\"ext.centralauth.centralautologin\",\"ext.popups\",\"ext.visualEditor.desktopArticleTarget.init\",\"ext.visualEditor.targetLoader\",\"ext.eventLogging\",\"ext.wikimediaEvents\",\"ext.navigationTiming\",\"ext.uls.eventlogger\",\"ext.uls.init\",\"ext.uls.compactlinks\",\"ext.uls.interface\",\"ext.centralNotice.geoIP\",\"ext.centralNotice.startUp\",\"mw.MediaWikiPlayer.loader\",\"mw.PopUpMediaTransform\",\"skins.vector.js\"];mw.loader.load(RLPAGEMODULES);});</script>\n",
      "<link href=\"/w/load.php?debug=false&amp;lang=it&amp;modules=ext.3d.styles%7Cext.tmh.thumbnail.styles%7Cext.uls.interlanguage%7Cext.visualEditor.desktopArticleTarget.noscript%7Cext.wikimediaBadges%7Cmediawiki.action.view.categoryPage.styles%7Cmediawiki.helplink%7Cmediawiki.legacy.commonPrint%2Cshared%7Cmediawiki.skinning.interface%7Cskins.vector.styles%7Cwikibase.client.init&amp;only=styles&amp;skin=vector\" rel=\"stylesheet\"/>\n",
      "<script async=\"\" src=\"/w/load.php?debug=false&amp;lang=it&amp;modules=startup&amp;only=scripts&amp;skin=vector\"></script>\n",
      "<meta content=\"\" name=\"ResourceLoaderDynamicStyles\"/>\n",
      "<link href=\"/w/load.php?debug=false&amp;lang=it&amp;modules=ext.gadget.PDCStriker&amp;only=styles&amp;skin=vector\" rel=\"stylesheet\"/>\n",
      "<link href=\"/w/load.php?debug=false&amp;lang=it&amp;modules=site.styles&amp;only=styles&amp;skin=vector\" rel=\"stylesheet\"/>\n",
      "<meta content=\"MediaWiki 1.33.0-wmf.20\" name=\"generator\"/>\n",
      "<meta content=\"origin\" name=\"referrer\"/>\n",
      "<meta content=\"origin-when-crossorigin\" name=\"referrer\"/>\n",
      "<meta content=\"origin-when-cross-origin\" name=\"referrer\"/>\n",
      "<link href=\"/w/index.php?title=Categoria:Cantanti_trap&amp;action=edit\" rel=\"alternate\" title=\"Modifica\" type=\"application/x-wiki\"/>\n",
      "<link href=\"/w/index.php?title=Categoria:Cantanti_trap&amp;action=edit\" rel=\"edit\" title=\"Modifica\"/>\n",
      "<link href=\"/static/apple-touch/wikipedia.png\" rel=\"apple-touch-icon\"/>\n",
      "<link href=\"/static/favicon/wikipedia.ico\" rel=\"shortcut icon\"/>\n",
      "<link href=\"/w/opensearch_desc.php\" rel=\"search\" title=\"Wikipedia (it)\" type=\"application/opensearchdescription+xml\"/>\n",
      "<link href=\"//it.wikipedia.org/w/api.php?action=rsd\" rel=\"EditURI\" type=\"application/rsd+xml\"/>\n",
      "<link href=\"//creativecommons.org/licenses/by-sa/3.0/\" rel=\"license\"/>\n",
      "<link href=\"/w/index.php?title=Speciale:UltimeModifiche&amp;feed=atom\" rel=\"alternate\" title=\"Feed Atom di Wikipedia\" type=\"application/atom+xml\"/>\n",
      "<link href=\"https://it.wikipedia.org/wiki/Categoria:Cantanti_trap\" rel=\"canonical\"/>\n",
      "<link href=\"//login.wikimedia.org\" rel=\"dns-prefetch\"/>\n",
      "<link href=\"//meta.wikimedia.org\" rel=\"dns-prefetch\"/>\n",
      "<!--[if lt IE 9]><script src=\"/w/load.php?debug=false&amp;lang=it&amp;modules=html5shiv&amp;only=scripts&amp;skin=vector&amp;sync=1\"></script><![endif]-->\n",
      "</head>\n",
      "<body class=\"mediawiki ltr sitedir-ltr mw-hide-empty-elt ns-14 ns-subject mw-editable page-Categoria_Cantanti_trap rootpage-Categoria_Cantanti_trap skin-vector action-view\"> <div class=\"noprint\" id=\"mw-page-base\"></div>\n",
      "<div class=\"noprint\" id=\"mw-head-base\"></div>\n",
      "<div class=\"mw-body\" id=\"content\" role=\"main\">\n",
      "<a id=\"top\"></a>\n",
      "<div class=\"mw-body-content\" id=\"siteNotice\"><!-- CentralNotice --></div><div class=\"mw-indicators mw-body-content\">\n",
      "<div class=\"mw-indicator\" id=\"mw-indicator-mw-helplink\"><a class=\"mw-helplink\" href=\"/wiki/Aiuto:Categorie\" target=\"_blank\">Aiuto</a></div>\n",
      "</div>\n",
      "<h1 class=\"firstHeading\" id=\"firstHeading\" lang=\"it\">Categoria:Cantanti trap</h1> <div class=\"mw-body-content\" id=\"bodyContent\">\n",
      "<div class=\"noprint\" id=\"siteSub\">Da Wikipedia, l'enciclopedia libera.</div> <div id=\"contentSub\"></div>\n",
      "<div id=\"jump-to-nav\"></div> <a class=\"mw-jump-link\" href=\"#mw-head\">Jump to navigation</a>\n",
      "<a class=\"mw-jump-link\" href=\"#p-search\">Jump to search</a>\n",
      "<div class=\"mw-content-ltr\" dir=\"ltr\" id=\"mw-content-text\" lang=\"it\"><div class=\"mw-parser-output\"><p>Questa categoria raggruppa voci su <a href=\"/wiki/Cantante\" title=\"Cantante\">cantanti</a> <a href=\"/wiki/Trap_(genere_musicale)\" title=\"Trap (genere musicale)\">trap</a>.\n",
      "</p><p><b>Categorie correlate:</b> <a href=\"/wiki/Categoria:Cantanti_per_nazionalit%C3%A0\" title=\"Categoria:Cantanti per nazionalità\">Cantanti per nazionalità</a><span style=\"font-weight:bold;\"> ·</span>\n",
      "<a href=\"/wiki/Categoria:Cantanti_per_genere\" title=\"Categoria:Cantanti per genere\">Cantanti per genere (tutti)</a><span style=\"font-weight:bold;\"> ·</span> <a href=\"/wiki/Categoria:Gruppi_musicali_trap\" title=\"Categoria:Gruppi musicali trap\">Gruppi musicali trap</a><span style=\"font-weight:bold;\"> ·</span> <a href=\"/wiki/Categoria:Musicisti_trap\" title=\"Categoria:Musicisti trap\">Musicisti trap</a><span style=\"font-weight:bold;\"> ·</span> <a href=\"/wiki/Categoria:Disc_jockey_trap\" title=\"Categoria:Disc jockey trap\">Disc jockey trap</a><span style=\"font-weight:bold;\"> ·</span> <a href=\"/wiki/Categoria:Album_trap\" title=\"Categoria:Album trap\">Album trap</a><span style=\"font-weight:bold;\"> ·</span> <a href=\"/wiki/Categoria:EP_trap\" title=\"Categoria:EP trap\">EP trap</a><span style=\"font-weight:bold;\"> ·</span> <a href=\"/wiki/Categoria:Singoli_trap\" title=\"Categoria:Singoli trap\">Singoli trap</a><span style=\"font-weight:bold;\"> ·</span> <a class=\"new\" href=\"/w/index.php?title=Categoria:Album_video_trap&amp;action=edit&amp;redlink=1\" title=\"Categoria:Album video trap (la pagina non esiste)\">Album video trap</a><span style=\"font-weight:bold;\"> ·</span> <a href=\"/wiki/Categoria:Brani_musicali_trap\" title=\"Categoria:Brani musicali trap\">Brani musicali trap</a>\n",
      "</p>\n",
      "<!-- \n",
      "NewPP limit report\n",
      "Parsed by mw1336\n",
      "Cached time: 20190309174137\n",
      "Cache expiry: 2592000\n",
      "Dynamic content: false\n",
      "CPU time usage: 0.024 seconds\n",
      "Real time usage: 0.029 seconds\n",
      "Preprocessor visited node count: 128/1000000\n",
      "Preprocessor generated node count: 0/1500000\n",
      "Post‐expand include size: 2573/2097152 bytes\n",
      "Template argument size: 196/2097152 bytes\n",
      "Highest expansion depth: 3/40\n",
      "Expensive parser function count: 0/500\n",
      "Unstrip recursion depth: 0/20\n",
      "Unstrip post‐expand size: 0/5000000 bytes\n",
      "Number of Wikibase entities loaded: 0/400\n",
      "-->\n",
      "<!--\n",
      "Transclusion expansion time report (%,ms,calls,template)\n",
      "100.00%   11.369      1 Template:CategoriaMusicale\n",
      "100.00%   11.369      1 -total\n",
      " 44.61%    5.071      9 Template:·\n",
      "-->\n",
      "<!-- Saved in parser cache with key itwiki:pcache:idhash:5439423-0!canonical and timestamp 20190309174137 and revision id 101188935\n",
      " -->\n",
      "</div><div class=\"mw-category-generated\" dir=\"ltr\" lang=\"it\"><div id=\"mw-pages\">\n",
      "<h2>Pagine nella categoria \"Cantanti trap\"</h2>\n",
      "<p>Questa categoria contiene le 85 pagine indicate di seguito, su un totale di 85.\n",
      "</p><div class=\"mw-content-ltr\" dir=\"ltr\" lang=\"it\"><div class=\"mw-category\"><div class=\"mw-category-group\"><h3>0–9</h3>\n",
      "<ul><li><a href=\"/wiki/6ix9ine\" title=\"6ix9ine\">6ix9ine</a></li>\n",
      "<li><a href=\"/wiki/21_Savage\" title=\"21 Savage\">21 Savage</a></li></ul></div><div class=\"mw-category-group\"><h3>A</h3>\n",
      "<ul><li><a href=\"/wiki/Anuel_AA\" title=\"Anuel AA\">Anuel AA</a></li>\n",
      "<li><a href=\"/wiki/ASAP_Rocky\" title=\"ASAP Rocky\">ASAP Rocky</a></li></ul></div><div class=\"mw-category-group\"><h3>B</h3>\n",
      "<ul><li><a href=\"/wiki/Bad_Bunny\" title=\"Bad Bunny\">Bad Bunny</a></li>\n",
      "<li><a href=\"/wiki/Bhad_Bhabie\" title=\"Bhad Bhabie\">Bhad Bhabie</a></li>\n",
      "<li><a href=\"/wiki/Birdman_(rapper)\" title=\"Birdman (rapper)\">Birdman (rapper)</a></li>\n",
      "<li><a href=\"/wiki/Booba\" title=\"Booba\">Booba</a></li>\n",
      "<li><a href=\"/wiki/Quando_Rondo\" title=\"Quando Rondo\">Quando Rondo</a></li></ul></div><div class=\"mw-category-group\"><h3>C</h3>\n",
      "<ul><li><a href=\"/wiki/Cardi_B\" title=\"Cardi B\">Cardi B</a></li>\n",
      "<li><a href=\"/wiki/Chanmina\" title=\"Chanmina\">Chanmina</a></li>\n",
      "<li><a href=\"/wiki/Chief_Keef\" title=\"Chief Keef\">Chief Keef</a></li>\n",
      "<li><a href=\"/wiki/CL_(cantante)\" title=\"CL (cantante)\">CL (cantante)</a></li></ul></div><div class=\"mw-category-group\"><h3>D</h3>\n",
      "<ul><li><a href=\"/wiki/Dej_Loaf\" title=\"Dej Loaf\">Dej Loaf</a></li>\n",
      "<li><a href=\"/wiki/DJ_Paul\" title=\"DJ Paul\">DJ Paul</a></li>\n",
      "<li><a href=\"/wiki/Duke_Montana\" title=\"Duke Montana\">Duke Montana</a></li></ul></div><div class=\"mw-category-group\"><h3>F</h3>\n",
      "<ul><li><a href=\"/wiki/Famous_Dex\" title=\"Famous Dex\">Famous Dex</a></li>\n",
      "<li><a href=\"/wiki/Fetty_Wap\" title=\"Fetty Wap\">Fetty Wap</a></li>\n",
      "<li><a href=\"/wiki/Frauenarzt\" title=\"Frauenarzt\">Frauenarzt</a></li>\n",
      "<li><a href=\"/wiki/Future_(rapper)\" title=\"Future (rapper)\">Future (rapper)</a></li></ul></div><div class=\"mw-category-group\"><h3>G</h3>\n",
      "<ul><li><a href=\"/wiki/Ghali_(rapper)\" title=\"Ghali (rapper)\">Ghali (rapper)</a></li>\n",
      "<li><a href=\"/wiki/Gradur\" title=\"Gradur\">Gradur</a></li>\n",
      "<li><a href=\"/wiki/Gucci_Mane\" title=\"Gucci Mane\">Gucci Mane</a></li></ul></div><div class=\"mw-category-group\"><h3>H</h3>\n",
      "<ul><li><a href=\"/wiki/Haftbefehl\" title=\"Haftbefehl\">Haftbefehl</a></li>\n",
      "<li><a href=\"/wiki/Ace_Hood\" title=\"Ace Hood\">Ace Hood</a></li></ul></div><div class=\"mw-category-group\"><h3>I</h3>\n",
      "<ul><li><a href=\"/wiki/Izi_(rapper)\" title=\"Izi (rapper)\">Izi (rapper)</a></li></ul></div><div class=\"mw-category-group\"><h3>J</h3>\n",
      "<ul><li><a href=\"/wiki/Jeezy\" title=\"Jeezy\">Jeezy</a></li>\n",
      "<li><a href=\"/wiki/Juice_Wrld\" title=\"Juice Wrld\">Juice Wrld</a></li>\n",
      "<li><a href=\"/wiki/Juicy_J\" title=\"Juicy J\">Juicy J</a></li></ul></div><div class=\"mw-category-group\"><h3>K</h3>\n",
      "<ul><li><a href=\"/wiki/Kaaris\" title=\"Kaaris\">Kaaris</a></li>\n",
      "<li><a href=\"/wiki/Keith_Ape\" title=\"Keith Ape\">Keith Ape</a></li>\n",
      "<li><a href=\"/wiki/Ketama126\" title=\"Ketama126\">Ketama126</a></li>\n",
      "<li><a href=\"/wiki/Wiz_Khalifa\" title=\"Wiz Khalifa\">Wiz Khalifa</a></li>\n",
      "<li><a href=\"/wiki/Kid_Kaze\" title=\"Kid Kaze\">Kid Kaze</a></li></ul></div><div class=\"mw-category-group\"><h3>L</h3>\n",
      "<ul><li><a href=\"/wiki/Lacrim\" title=\"Lacrim\">Lacrim</a></li>\n",
      "<li><a href=\"/wiki/La%C3%AFoung\" title=\"Laïoung\">Laïoung</a></li>\n",
      "<li><a href=\"/wiki/Achille_Lauro_(rapper)\" title=\"Achille Lauro (rapper)\">Achille Lauro (rapper)</a></li>\n",
      "<li><a href=\"/wiki/Lil_B\" title=\"Lil B\">Lil B</a></li>\n",
      "<li><a href=\"/wiki/Lil_Baby\" title=\"Lil Baby\">Lil Baby</a></li>\n",
      "<li><a href=\"/wiki/Lil_Pump\" title=\"Lil Pump\">Lil Pump</a></li>\n",
      "<li><a href=\"/wiki/Lil_Skies\" title=\"Lil Skies\">Lil Skies</a></li>\n",
      "<li><a href=\"/wiki/Lil_Uzi_Vert\" title=\"Lil Uzi Vert\">Lil Uzi Vert</a></li>\n",
      "<li><a href=\"/wiki/Lil_Wayne\" title=\"Lil Wayne\">Lil Wayne</a></li>\n",
      "<li><a href=\"/wiki/Lil_Yachty\" title=\"Lil Yachty\">Lil Yachty</a></li>\n",
      "<li><a href=\"/wiki/Lord_Infamous\" title=\"Lord Infamous\">Lord Infamous</a></li></ul></div><div class=\"mw-category-group\"><h3>M</h3>\n",
      "<ul><li><a href=\"/wiki/MadeinTYO\" title=\"MadeinTYO\">MadeinTYO</a></li>\n",
      "<li><a href=\"/wiki/Meek_Mill\" title=\"Meek Mill\">Meek Mill</a></li>\n",
      "<li><a href=\"/wiki/Mino_(rapper)\" title=\"Mino (rapper)\">Mino (rapper)</a></li>\n",
      "<li><a href=\"/wiki/Stella_Mwangi\" title=\"Stella Mwangi\">Stella Mwangi</a></li></ul></div><div class=\"mw-category-group\"><h3>N</h3>\n",
      "<ul><li><a href=\"/wiki/Niska\" title=\"Niska\">Niska</a></li></ul></div><div class=\"mw-category-group\"><h3>O</h3>\n",
      "<ul><li><a href=\"/wiki/O.T._Genasis\" title=\"O.T. Genasis\">O.T. Genasis</a></li>\n",
      "<li><a href=\"/wiki/Offset_(rapper)\" title=\"Offset (rapper)\">Offset (rapper)</a></li>\n",
      "<li><a href=\"/wiki/Ozuna\" title=\"Ozuna\">Ozuna</a></li></ul></div><div class=\"mw-category-group\"><h3>P</h3>\n",
      "<ul><li><a href=\"/wiki/PartyNextDoor\" title=\"PartyNextDoor\">PartyNextDoor</a></li>\n",
      "<li><a href=\"/wiki/Project_Pat\" title=\"Project Pat\">Project Pat</a></li></ul></div><div class=\"mw-category-group\"><h3>Q</h3>\n",
      "<ul><li><a href=\"/wiki/Quavo\" title=\"Quavo\">Quavo</a></li></ul></div><div class=\"mw-category-group\"><h3>R</h3>\n",
      "<ul><li><a href=\"/wiki/Alem%C3%A1n\" title=\"Alemán\">Alemán</a></li>\n",
      "<li><a href=\"/wiki/Lil_Reese\" title=\"Lil Reese\">Lil Reese</a></li>\n",
      "<li><a href=\"/wiki/Rich_the_Kid\" title=\"Rich the Kid\">Rich the Kid</a></li>\n",
      "<li><a href=\"/wiki/Dawn_Richard\" title=\"Dawn Richard\">Dawn Richard</a></li>\n",
      "<li><a href=\"/wiki/Rick_Ross\" title=\"Rick Ross\">Rick Ross</a></li>\n",
      "<li><a href=\"/wiki/Robb_Banks\" title=\"Robb Banks\">Robb Banks</a></li>\n",
      "<li><a href=\"/wiki/Rvssian\" title=\"Rvssian\">Rvssian</a></li></ul></div><div class=\"mw-category-group\"><h3>S</h3>\n",
      "<ul><li><a href=\"/wiki/SCH_(rapper)\" title=\"SCH (rapper)\">SCH (rapper)</a></li>\n",
      "<li><a href=\"/wiki/SD_(rapper)\" title=\"SD (rapper)\">SD (rapper)</a></li>\n",
      "<li><a href=\"/wiki/Desiigner\" title=\"Desiigner\">Desiigner</a></li>\n",
      "<li><a href=\"/wiki/Shawty_Lo\" title=\"Shawty Lo\">Shawty Lo</a></li>\n",
      "<li><a href=\"/wiki/Sheck_Wes\" title=\"Sheck Wes\">Sheck Wes</a></li>\n",
      "<li><a href=\"/wiki/Jaden_Smith\" title=\"Jaden Smith\">Jaden Smith</a></li>\n",
      "<li><a href=\"/wiki/Smokepurpp\" title=\"Smokepurpp\">Smokepurpp</a></li>\n",
      "<li><a href=\"/wiki/Soulja_Boy\" title=\"Soulja Boy\">Soulja Boy</a></li>\n",
      "<li><a href=\"/wiki/Ronny_J\" title=\"Ronny J\">Ronny J</a></li></ul></div><div class=\"mw-category-group\"><h3>T</h3>\n",
      "<ul><li><a href=\"/wiki/T.I.\" title=\"T.I.\">T.I.</a></li>\n",
      "<li><a href=\"/wiki/Takeoff\" title=\"Takeoff\">Takeoff</a></li>\n",
      "<li><a href=\"/wiki/Tay-K\" title=\"Tay-K\">Tay-K</a></li>\n",
      "<li><a href=\"/wiki/Tedua\" title=\"Tedua\">Tedua</a></li>\n",
      "<li><a href=\"/wiki/Bryson_Tiller\" title=\"Bryson Tiller\">Bryson Tiller</a></li>\n",
      "<li><a href=\"/wiki/Lil_Tracy\" title=\"Lil Tracy\">Lil Tracy</a></li>\n",
      "<li><a href=\"/wiki/Travis_Scott\" title=\"Travis Scott\">Travis Scott</a></li></ul></div><div class=\"mw-category-group\"><h3>V</h3>\n",
      "<ul><li><a href=\"/wiki/Vacca_(rapper)\" title=\"Vacca (rapper)\">Vacca (rapper)</a></li></ul></div><div class=\"mw-category-group\"><h3>W</h3>\n",
      "<ul><li><a href=\"/wiki/Waka_Flocka_Flame\" title=\"Waka Flocka Flame\">Waka Flocka Flame</a></li>\n",
      "<li><a href=\"/wiki/Wifisfuneral\" title=\"Wifisfuneral\">Wifisfuneral</a></li></ul></div><div class=\"mw-category-group\"><h3>X</h3>\n",
      "<ul><li><a href=\"/wiki/Lil_Xan\" title=\"Lil Xan\">Lil Xan</a></li></ul></div><div class=\"mw-category-group\"><h3>Y</h3>\n",
      "<ul><li><a href=\"/wiki/YNW_Melly\" title=\"YNW Melly\">YNW Melly</a></li>\n",
      "<li><a href=\"/wiki/Yo_Gotti\" title=\"Yo Gotti\">Yo Gotti</a></li></ul></div></div></div>\n",
      "</div></div><noscript><img alt=\"\" height=\"1\" src=\"//it.wikipedia.org/wiki/Special:CentralAutoLogin/start?type=1x1\" style=\"border: none; position: absolute;\" title=\"\" width=\"1\"/></noscript></div> <div class=\"printfooter\">\n",
      "\t\t\t\t\t\tEstratto da \"<a dir=\"ltr\" href=\"https://it.wikipedia.org/w/index.php?title=Categoria:Cantanti_trap&amp;oldid=101188935\">https://it.wikipedia.org/w/index.php?title=Categoria:Cantanti_trap&amp;oldid=101188935</a>\"\t\t\t\t\t</div>\n",
      "<div class=\"catlinks\" data-mw=\"interface\" id=\"catlinks\"><div class=\"mw-normal-catlinks\" id=\"mw-normal-catlinks\"><a href=\"/wiki/Categoria:Categorie\" title=\"Categoria:Categorie\">Categorie</a>: <ul><li><a href=\"/wiki/Categoria:Cantanti_hip_hop\" title=\"Categoria:Cantanti hip hop\">Cantanti hip hop</a></li><li><a href=\"/wiki/Categoria:Musicisti_trap\" title=\"Categoria:Musicisti trap\">Musicisti trap</a></li></ul></div></div> <div class=\"visualClear\"></div>\n",
      "</div>\n",
      "</div>\n",
      "<div id=\"mw-navigation\">\n",
      "<h2>Menu di navigazione</h2>\n",
      "<div id=\"mw-head\">\n",
      "<div aria-labelledby=\"p-personal-label\" id=\"p-personal\" role=\"navigation\">\n",
      "<h3 id=\"p-personal-label\">Strumenti personali</h3>\n",
      "<ul>\n",
      "<li id=\"pt-anonuserpage\">Accesso non effettuato</li><li id=\"pt-anontalk\"><a accesskey=\"n\" href=\"/wiki/Speciale:MieDiscussioni\" title=\"Discussioni sulle modifiche fatte da questo indirizzo IP [n]\">discussioni</a></li><li id=\"pt-anoncontribs\"><a accesskey=\"y\" href=\"/wiki/Speciale:MieiContributi\" title=\"Un elenco delle modifiche fatte da questo indirizzo IP [y]\">contributi</a></li><li id=\"pt-createaccount\"><a href=\"/w/index.php?title=Speciale:CreaUtenza&amp;returnto=Categoria%3ACantanti+trap\" title=\"Si consiglia di registrarsi e di effettuare l'accesso, anche se non è obbligatorio\">registrati</a></li><li id=\"pt-login\"><a accesskey=\"o\" href=\"/w/index.php?title=Speciale:Entra&amp;returnto=Categoria%3ACantanti+trap\" title=\"Si consiglia di effettuare l'accesso, anche se non è obbligatorio [o]\">entra</a></li> </ul>\n",
      "</div>\n",
      "<div id=\"left-navigation\">\n",
      "<div aria-labelledby=\"p-namespaces-label\" class=\"vectorTabs\" id=\"p-namespaces\" role=\"navigation\">\n",
      "<h3 id=\"p-namespaces-label\">Namespace</h3>\n",
      "<ul>\n",
      "<li class=\"selected\" id=\"ca-nstab-category\"><span><a accesskey=\"c\" href=\"/wiki/Categoria:Cantanti_trap\" title=\"Vedi la pagina della categoria [c]\">Categoria</a></span></li><li class=\"new\" id=\"ca-talk\"><span><a accesskey=\"t\" href=\"/w/index.php?title=Discussioni_categoria:Cantanti_trap&amp;action=edit&amp;redlink=1\" rel=\"discussion\" title=\"Vedi le discussioni relative a questa pagina (la pagina non esiste) [t]\">Discussione</a></span></li> </ul>\n",
      "</div>\n",
      "<div aria-labelledby=\"p-variants-label\" class=\"vectorMenu emptyPortlet\" id=\"p-variants\" role=\"navigation\">\n",
      "<input aria-labelledby=\"p-variants-label\" class=\"vectorMenuCheckbox\" type=\"checkbox\"/>\n",
      "<h3 id=\"p-variants-label\">\n",
      "<span>Varianti</span>\n",
      "</h3>\n",
      "<ul class=\"menu\">\n",
      "</ul>\n",
      "</div>\n",
      "</div>\n",
      "<div id=\"right-navigation\">\n",
      "<div aria-labelledby=\"p-views-label\" class=\"vectorTabs\" id=\"p-views\" role=\"navigation\">\n",
      "<h3 id=\"p-views-label\">Visite</h3>\n",
      "<ul>\n",
      "<li class=\"collapsible selected\" id=\"ca-view\"><span><a href=\"/wiki/Categoria:Cantanti_trap\">Leggi</a></span></li><li class=\"collapsible\" id=\"ca-ve-edit\"><span><a accesskey=\"v\" href=\"/w/index.php?title=Categoria:Cantanti_trap&amp;veaction=edit\" title=\"Modifica questa pagina [v]\">Modifica</a></span></li><li class=\"collapsible\" id=\"ca-edit\"><span><a accesskey=\"e\" href=\"/w/index.php?title=Categoria:Cantanti_trap&amp;action=edit\" title=\"Modifica questa pagina [e]\">Modifica wikitesto</a></span></li><li class=\"collapsible\" id=\"ca-history\"><span><a accesskey=\"h\" href=\"/w/index.php?title=Categoria:Cantanti_trap&amp;action=history\" title=\"Versioni precedenti di questa pagina [h]\">Cronologia</a></span></li> </ul>\n",
      "</div>\n",
      "<div aria-labelledby=\"p-cactions-label\" class=\"vectorMenu emptyPortlet\" id=\"p-cactions\" role=\"navigation\">\n",
      "<input aria-labelledby=\"p-cactions-label\" class=\"vectorMenuCheckbox\" type=\"checkbox\"/>\n",
      "<h3 id=\"p-cactions-label\"><span>Altro</span></h3>\n",
      "<ul class=\"menu\">\n",
      "</ul>\n",
      "</div>\n",
      "<div id=\"p-search\" role=\"search\">\n",
      "<h3>\n",
      "<label for=\"searchInput\">Ricerca</label>\n",
      "</h3>\n",
      "<form action=\"/w/index.php\" id=\"searchform\">\n",
      "<div id=\"simpleSearch\">\n",
      "<input accesskey=\"f\" id=\"searchInput\" name=\"search\" placeholder=\"Cerca in Wikipedia\" title=\"Cerca in Wikipedia [f]\" type=\"search\"/><input name=\"title\" type=\"hidden\" value=\"Speciale:Ricerca\"/><input class=\"searchButton mw-fallbackSearchButton\" id=\"mw-searchButton\" name=\"fulltext\" title=\"Cerca il testo indicato nelle pagine\" type=\"submit\" value=\"Ricerca\"/><input class=\"searchButton\" id=\"searchButton\" name=\"go\" title=\"Vai a una pagina con il titolo indicato, se esiste\" type=\"submit\" value=\"Vai\"/> </div>\n",
      "</form>\n",
      "</div>\n",
      "</div>\n",
      "</div>\n",
      "<div id=\"mw-panel\">\n",
      "<div id=\"p-logo\" role=\"banner\"><a class=\"mw-wiki-logo\" href=\"/wiki/Pagina_principale\" title=\"Visita la pagina principale\"></a></div>\n",
      "<div aria-labelledby=\"p-navigation-label\" class=\"portal\" id=\"p-navigation\" role=\"navigation\">\n",
      "<h3 id=\"p-navigation-label\">Navigazione</h3>\n",
      "<div class=\"body\">\n",
      "<ul>\n",
      "<li id=\"n-mainpage\"><a accesskey=\"z\" href=\"/wiki/Pagina_principale\" title=\"Visita la pagina principale [z]\">Pagina principale</a></li><li id=\"n-recentchanges\"><a accesskey=\"r\" href=\"/wiki/Speciale:UltimeModifiche\" title=\"Elenco delle ultime modifiche del sito [r]\">Ultime modifiche</a></li><li id=\"n-randompage\"><a accesskey=\"x\" href=\"/wiki/Speciale:PaginaCasuale\" title=\"Mostra una pagina a caso [x]\">Una voce a caso</a></li><li id=\"n-mobile-frontend-nearby-title\"><a href=\"/wiki/Speciale:NelleVicinanze\">Nelle vicinanze</a></li><li id=\"n-vetrina\"><a href=\"/wiki/Wikipedia:Vetrina\">Vetrina</a></li><li id=\"n-help\"><a href=\"/wiki/Aiuto:Aiuto\" title=\"Pagine di aiuto\">Aiuto</a></li><li id=\"n-Sportello-informazioni\"><a href=\"/wiki/Aiuto:Sportello_informazioni\">Sportello informazioni</a></li> </ul>\n",
      "</div>\n",
      "</div>\n",
      "<div aria-labelledby=\"p-Comunità-label\" class=\"portal\" id=\"p-Comunità\" role=\"navigation\">\n",
      "<h3 id=\"p-Comunità-label\">Comunità</h3>\n",
      "<div class=\"body\">\n",
      "<ul>\n",
      "<li id=\"n-portal\"><a href=\"/wiki/Portale:Comunit%C3%A0\" title=\"Descrizione del progetto, cosa puoi fare, dove trovare le cose\">Portale Comunità</a></li><li id=\"n-villagepump\"><a href=\"/wiki/Wikipedia:Bar\">Bar</a></li><li id=\"n-wikipediano\"><a href=\"/wiki/Wikipedia:Wikipediano\">Il Wikipediano</a></li><li id=\"n-sitesupport\"><a href=\"//donate.wikimedia.org/wiki/Special:FundraiserRedirector?utm_source=donate&amp;utm_medium=sidebar&amp;utm_campaign=C13_it.wikipedia.org&amp;uselang=it\" title=\"Sostienici\">Fai una donazione</a></li><li id=\"n-contactpage\"><a href=\"/wiki/Wikipedia:Contatti\">Contatti</a></li> </ul>\n",
      "</div>\n",
      "</div>\n",
      "<div aria-labelledby=\"p-tb-label\" class=\"portal\" id=\"p-tb\" role=\"navigation\">\n",
      "<h3 id=\"p-tb-label\">Strumenti</h3>\n",
      "<div class=\"body\">\n",
      "<ul>\n",
      "<li id=\"t-whatlinkshere\"><a accesskey=\"j\" href=\"/wiki/Speciale:PuntanoQui/Categoria:Cantanti_trap\" title=\"Elenco di tutte le pagine che sono collegate a questa [j]\">Puntano qui</a></li><li id=\"t-recentchangeslinked\"><a accesskey=\"k\" href=\"/wiki/Speciale:ModificheCorrelate/Categoria:Cantanti_trap\" rel=\"nofollow\" title=\"Elenco delle ultime modifiche alle pagine collegate a questa [k]\">Modifiche correlate</a></li><li id=\"t-specialpages\"><a accesskey=\"q\" href=\"/wiki/Speciale:PagineSpeciali\" title=\"Elenco di tutte le pagine speciali [q]\">Pagine speciali</a></li><li id=\"t-permalink\"><a href=\"/w/index.php?title=Categoria:Cantanti_trap&amp;oldid=101188935\" title=\"Collegamento permanente a questa versione della pagina\">Link permanente</a></li><li id=\"t-info\"><a href=\"/w/index.php?title=Categoria:Cantanti_trap&amp;action=info\" title=\"Ulteriori informazioni su questa pagina\">Informazioni pagina</a></li><li id=\"t-wikibase\"><a accesskey=\"g\" href=\"https://www.wikidata.org/wiki/Special:EntityPage/Q19857999\" title=\"Collegamento all'elemento connesso dell'archivio dati [g]\">Elemento Wikidata</a></li> </ul>\n",
      "</div>\n",
      "</div>\n",
      "<div aria-labelledby=\"p-coll-print_export-label\" class=\"portal\" id=\"p-coll-print_export\" role=\"navigation\">\n",
      "<h3 id=\"p-coll-print_export-label\">Stampa/esporta</h3>\n",
      "<div class=\"body\">\n",
      "<ul>\n",
      "<li id=\"coll-create_a_book\"><a href=\"/w/index.php?title=Speciale:Libro&amp;bookcmd=book_creator&amp;referer=Categoria%3ACantanti+trap\">Crea un libro</a></li><li id=\"coll-download-as-rdf2latex\"><a href=\"/w/index.php?title=Speciale:ElectronPdf&amp;page=Categoria%3ACantanti+trap&amp;action=show-download-screen\">Scarica come PDF</a></li><li id=\"t-print\"><a accesskey=\"p\" href=\"/w/index.php?title=Categoria:Cantanti_trap&amp;printable=yes\" title=\"Versione stampabile di questa pagina [p]\">Versione stampabile</a></li> </ul>\n",
      "</div>\n",
      "</div>\n",
      "<div aria-labelledby=\"p-lang-label\" class=\"portal\" id=\"p-lang\" role=\"navigation\">\n",
      "<h3 id=\"p-lang-label\">In altre lingue</h3>\n",
      "<div class=\"body\">\n",
      "<ul>\n",
      "<li class=\"interlanguage-link interwiki-ca\"><a class=\"interlanguage-link-target\" href=\"https://ca.wikipedia.org/wiki/Categoria:Cantants_de_trap\" hreflang=\"ca\" lang=\"ca\" title=\"Categoria:Cantants de trap - catalano\">Català</a></li><li class=\"interlanguage-link interwiki-es\"><a class=\"interlanguage-link-target\" href=\"https://es.wikipedia.org/wiki/Categor%C3%ADa:Cantantes_de_trap\" hreflang=\"es\" lang=\"es\" title=\"Categoría:Cantantes de trap - spagnolo\">Español</a></li> </ul>\n",
      "<div class=\"after-portlet after-portlet-lang\"><span class=\"wb-langlinks-edit wb-langlinks-link\"><a class=\"wbc-editpage\" href=\"https://www.wikidata.org/wiki/Special:EntityPage/Q19857999#sitelinks-wikipedia\" title=\"Modifica collegamenti interlinguistici\">Modifica collegamenti</a></span></div> </div>\n",
      "</div>\n",
      "</div>\n",
      "</div>\n",
      "<div id=\"footer\" role=\"contentinfo\">\n",
      "<ul id=\"footer-info\">\n",
      "<li id=\"footer-info-lastmod\"> Questa pagina è stata modificata per l'ultima volta il 25 nov 2018 alle 16:42.</li>\n",
      "<li id=\"footer-info-copyright\">Il testo è disponibile secondo la <a href=\"https://creativecommons.org/licenses/by-sa/3.0/deed.it\">licenza Creative Commons Attribuzione-Condividi allo stesso modo</a>; possono applicarsi condizioni ulteriori. Vedi le <a href=\"https://foundation.wikimedia.org/wiki/Special:MyLanguage/Terms_of_Use/it\">condizioni d'uso</a> per i dettagli.</li>\n",
      "</ul>\n",
      "<ul id=\"footer-places\">\n",
      "<li id=\"footer-places-privacy\"><a class=\"extiw\" href=\"https://meta.wikimedia.org/wiki/Privacy_policy/it\" title=\"m:Privacy policy/it\">Informativa sulla privacy</a></li>\n",
      "<li id=\"footer-places-about\"><a href=\"/wiki/Wikipedia:Sala_stampa/Wikipedia\" title=\"Wikipedia:Sala stampa/Wikipedia\">Informazioni su Wikipedia</a></li>\n",
      "<li id=\"footer-places-disclaimer\"><a href=\"/wiki/Wikipedia:Avvertenze_generali\" title=\"Wikipedia:Avvertenze generali\">Avvertenze</a></li>\n",
      "<li id=\"footer-places-developers\"><a href=\"https://www.mediawiki.org/wiki/Special:MyLanguage/How_to_contribute\">Sviluppatori</a></li>\n",
      "<li id=\"footer-places-cookiestatement\"><a href=\"https://foundation.wikimedia.org/wiki/Cookie_statement\">Dichiarazione sui cookie</a></li>\n",
      "<li id=\"footer-places-mobileview\"><a class=\"noprint stopMobileRedirectToggle\" href=\"//it.m.wikipedia.org/w/index.php?title=Categoria:Cantanti_trap&amp;mobileaction=toggle_view_mobile\">Versione mobile</a></li>\n",
      "</ul>\n",
      "<ul class=\"noprint\" id=\"footer-icons\">\n",
      "<li id=\"footer-copyrightico\">\n",
      "<a href=\"https://wikimediafoundation.org/\"><img alt=\"Wikimedia Foundation\" height=\"31\" src=\"/static/images/wikimedia-button.png\" srcset=\"/static/images/wikimedia-button-1.5x.png 1.5x, /static/images/wikimedia-button-2x.png 2x\" width=\"88\"/></a> </li>\n",
      "<li id=\"footer-poweredbyico\">\n",
      "<a href=\"//www.mediawiki.org/\"><img alt=\"Powered by MediaWiki\" height=\"31\" src=\"/static/images/poweredby_mediawiki_88x31.png\" srcset=\"/static/images/poweredby_mediawiki_132x47.png 1.5x, /static/images/poweredby_mediawiki_176x62.png 2x\" width=\"88\"/></a> </li>\n",
      "</ul>\n",
      "<div style=\"clear: both;\"></div>\n",
      "</div>\n",
      "<script>(window.RLQ=window.RLQ||[]).push(function(){mw.config.set({\"wgPageParseReport\":{\"limitreport\":{\"cputime\":\"0.024\",\"walltime\":\"0.029\",\"ppvisitednodes\":{\"value\":128,\"limit\":1000000},\"ppgeneratednodes\":{\"value\":0,\"limit\":1500000},\"postexpandincludesize\":{\"value\":2573,\"limit\":2097152},\"templateargumentsize\":{\"value\":196,\"limit\":2097152},\"expansiondepth\":{\"value\":3,\"limit\":40},\"expensivefunctioncount\":{\"value\":0,\"limit\":500},\"unstrip-depth\":{\"value\":0,\"limit\":20},\"unstrip-size\":{\"value\":0,\"limit\":5000000},\"entityaccesscount\":{\"value\":0,\"limit\":400},\"timingprofile\":[\"100.00%   11.369      1 Template:CategoriaMusicale\",\"100.00%   11.369      1 -total\",\" 44.61%    5.071      9 Template:·\"]},\"cachereport\":{\"origin\":\"mw1336\",\"timestamp\":\"20190309174137\",\"ttl\":2592000,\"transientcontent\":false}}});mw.config.set({\"wgBackendResponseTime\":150,\"wgHostname\":\"mw1320\"});});</script>\n",
      "</body>\n",
      "</html>\n",
      "\n"
     ]
    }
   ],
   "source": [
    "soup = bs(r.text, \"lxml\") # soupify i.e. make tag soup easy to navigate, using the lxml parser\n",
    "\n",
    "print(soup)"
   ]
  },
  {
   "cell_type": "markdown",
   "metadata": {},
   "source": [
    "It looks exactly the same!\n",
    "\n",
    "What's the difference? The first is pure text. It can be manipulated with regular expressions, e.g. to remove the html tags and extract the desired information, but good look with that.\n",
    "\n",
    "The second is a  more complex object, with a series of useful associated methods to navigate the html tags."
   ]
  },
  {
   "cell_type": "markdown",
   "metadata": {},
   "source": [
    "For example, suppose we want to extract the title of the page:"
   ]
  },
  {
   "cell_type": "code",
   "execution_count": null,
   "metadata": {},
   "outputs": [],
   "source": [
    "soup.find('title') # find method yield the first found occurrence"
   ]
  },
  {
   "cell_type": "markdown",
   "metadata": {},
   "source": [
    "Next, how do we know which tags contain the desired information?\n",
    "\n",
    "We can inspect the html source:\n",
    "\n",
    "(on google chrome, ctrl+shift+I opens the source inspector)"
   ]
  },
  {
   "cell_type": "markdown",
   "metadata": {},
   "source": [
    "![title](inspect.png)"
   ]
  },
  {
   "cell_type": "markdown",
   "metadata": {},
   "source": [
    "The names of the artists appear as text inside a-tags.\n",
    "\n",
    "The method findAll will yield all the a-tags found in the soup."
   ]
  },
  {
   "cell_type": "code",
   "execution_count": null,
   "metadata": {
    "scrolled": true
   },
   "outputs": [],
   "source": [
    "a_tags = soup.findAll('a')\n",
    "\n",
    "print(a_tags)"
   ]
  },
  {
   "cell_type": "markdown",
   "metadata": {},
   "source": [
    "We can see observe that a_tags 1) is a list (default outputs of findAll) and more importantly 2) it contains a number of a-tags which we are not interested in.\n",
    "\n",
    "To solve this problem we can restrict the search of the a-tags to some container above the wanted ones in the html structure, for example a div which is high enough to contain all the names but low enough to not contain useless stuff."
   ]
  },
  {
   "cell_type": "markdown",
   "metadata": {},
   "source": [
    "If we inspect the source again:\n",
    "![title](inspect0.png)"
   ]
  },
  {
   "cell_type": "markdown",
   "metadata": {},
   "source": [
    "So if we first capture the div with class=mw-category-generated and then we extract the a-tags:"
   ]
  },
  {
   "cell_type": "code",
   "execution_count": null,
   "metadata": {},
   "outputs": [],
   "source": [
    "div = soup.find('div', {'class' : 'mw-category-generated'}) \n",
    "# notice: the second argument is a dictionary, so it can potentially have more entries, for more refined definitions\n",
    "\n",
    "print(div)"
   ]
  },
  {
   "cell_type": "code",
   "execution_count": null,
   "metadata": {},
   "outputs": [],
   "source": [
    "a_tags = div.findAll('a')\n",
    "\n",
    "print(a_tags[0:5])"
   ]
  },
  {
   "cell_type": "markdown",
   "metadata": {},
   "source": [
    "We can build a list of strings containing the names of the artists by extracting the text attribute from each a-tag:"
   ]
  },
  {
   "cell_type": "code",
   "execution_count": null,
   "metadata": {},
   "outputs": [],
   "source": [
    "names = [a.text for a in a_tags]\n",
    "\n",
    "print(names)"
   ]
  },
  {
   "cell_type": "markdown",
   "metadata": {},
   "source": [
    "Finally, the list can be easily saved as text document:"
   ]
  },
  {
   "cell_type": "code",
   "execution_count": null,
   "metadata": {},
   "outputs": [],
   "source": [
    "with open('trappers.txt', 'w+') as output_file:\n",
    "    for name in names:\n",
    "        output_file.write(name+'\\n')        "
   ]
  },
  {
   "cell_type": "markdown",
   "metadata": {},
   "source": [
    "Text is not the only attribute. For example we might want to extract the associate url:"
   ]
  },
  {
   "cell_type": "code",
   "execution_count": null,
   "metadata": {},
   "outputs": [],
   "source": [
    "urls = [a.attrs['href'] for a in a_tags]\n",
    "\n",
    "print(urls)"
   ]
  },
  {
   "cell_type": "markdown",
   "metadata": {},
   "source": [
    "## Scraping paginated results\n",
    "\n",
    "Automated scraping becomes especially useful when we want to download hundreds or thousands of entries and we can't just copy-paste dozens of pages.\n",
    "\n",
    "In particular we take a look at paginated results, such as, for example, the list of Italian hotels according to the website www.elenco-alberghi.it"
   ]
  },
  {
   "cell_type": "markdown",
   "metadata": {},
   "source": [
    "The front page looks like this:\n",
    "![title](hotels.png)"
   ]
  },
  {
   "cell_type": "markdown",
   "metadata": {},
   "source": [
    "One approach is to visit the page corresponding to each region, and download the list of hotels from there. However, the results in each region page are paginated:\n",
    "\n",
    "![title](abruzzo.png)"
   ]
  },
  {
   "cell_type": "markdown",
   "metadata": {},
   "source": [
    "The idea is to cycle through every page and download the list fo hotels in each page, in each region.\n",
    "\n",
    "First of all, we define a url template, with a placeholder for the region and the list of regions, looking at the homepage of the website:"
   ]
  },
  {
   "cell_type": "code",
   "execution_count": 6,
   "metadata": {},
   "outputs": [],
   "source": [
    "# curly braces will be replaced with region name using format\n",
    "region_template_url = \"http://www.elenco-alberghi.it/{}/alberghi-hotels.asp\"\n",
    "\n",
    "# manually taken from homepage of www.elenco-alberghi.it\n",
    "regions = [\"abruzzo\", \"basilicata\", \"calabria\", \"campania\", \"emilia-romagna\", \"friuli-venezia-giulia\",\n",
    "\"lazio\", \"liguria\", \"lombardia\", \"marche\", \"molise\", \"piemonte\", \"puglia\", \"sardegna\", \"sicilia\", \"toscana\",\n",
    "\"trentino-alto-adige\", \"umbria\", \"valle-d-aosta\", \"veneto\"]"
   ]
  },
  {
   "cell_type": "markdown",
   "metadata": {},
   "source": [
    "For each region, we need to know how many pages there are in the paginated list.\n",
    "\n",
    "Luckily, this information can be found in the html source:\n",
    "\n",
    "![title](pagination.png)"
   ]
  },
  {
   "cell_type": "markdown",
   "metadata": {},
   "source": [
    "Let's zoom in a little:\n",
    "\n",
    "![title](pag_zoom.png)"
   ]
  },
  {
   "cell_type": "markdown",
   "metadata": {},
   "source": [
    "We can observe that each li-tag inside the div with id \"paginazione\" corresponds to a page number and containes the urls to that page number, together with a text element with that number (e.g. \"10\").\n",
    "\n",
    "This is true, except for the last li-tag, corresponding to the last page: the text element is just \"...\"  as displayed in the webpage. The number, however can be recovered from the associated url (e.g. \"81\")."
   ]
  },
  {
   "cell_type": "markdown",
   "metadata": {},
   "source": [
    "So let's extract that page number.\n",
    "\n",
    "First, define the url:"
   ]
  },
  {
   "cell_type": "code",
   "execution_count": 9,
   "metadata": {},
   "outputs": [
    {
     "name": "stdout",
     "output_type": "stream",
     "text": [
      "http://www.elenco-alberghi.it/abruzzo/alberghi-hotels.asp\n"
     ]
    }
   ],
   "source": [
    "region = \"abruzzo\" # for example\n",
    "reg_url = region_template_url.format(region) # insert region into template url\n",
    "\n",
    "print(reg_url)"
   ]
  },
  {
   "cell_type": "markdown",
   "metadata": {},
   "source": [
    "Next, http call and parse of response:"
   ]
  },
  {
   "cell_type": "code",
   "execution_count": 11,
   "metadata": {},
   "outputs": [
    {
     "name": "stdout",
     "output_type": "stream",
     "text": [
      "<Response [200]>\n"
     ]
    }
   ],
   "source": [
    "reg_r = requests.get(reg_url, headers=headers) # http request to page\n",
    "print(reg_r)\n",
    "\n",
    "reg_soup = bs(reg_r.text, \"lxml\")  # soupify"
   ]
  },
  {
   "cell_type": "markdown",
   "metadata": {},
   "source": [
    "Next, we extract the wanted div \"paginazione\" and the li-tags inside it:"
   ]
  },
  {
   "cell_type": "code",
   "execution_count": 14,
   "metadata": {},
   "outputs": [
    {
     "name": "stdout",
     "output_type": "stream",
     "text": [
      "[<li id=\"inactive\">Pagine:</li>, <li id=\"activelink\"><a href=\"javascript:void(0)\">1</a></li>, <li><a href=\"/abruzzo/alberghi-hotels_2.asp\" title=\"Vai alla pagina n. 2\">2</a></li>, <li><a href=\"/abruzzo/alberghi-hotels_3.asp\" title=\"Vai alla pagina n. 3\">3</a></li>, <li><a href=\"/abruzzo/alberghi-hotels_4.asp\" title=\"Vai alla pagina n. 4\">4</a></li>, <li><a href=\"/abruzzo/alberghi-hotels_5.asp\" title=\"Vai alla pagina n. 5\">5</a></li>, <li><a href=\"/abruzzo/alberghi-hotels_6.asp\" title=\"Vai alla pagina n. 6\">6</a></li>, <li><a href=\"/abruzzo/alberghi-hotels_7.asp\" title=\"Vai alla pagina n. 7\">7</a></li>, <li><a href=\"/abruzzo/alberghi-hotels_8.asp\" title=\"Vai alla pagina n. 8\">8</a></li>, <li><a href=\"/abruzzo/alberghi-hotels_9.asp\" title=\"Vai alla pagina n. 9\">9</a></li>, <li><a href=\"/abruzzo/alberghi-hotels_10.asp\" title=\"Vai alla pagina n. 10\">10</a></li>, <li><a href=\"/abruzzo/alberghi-hotels_81.asp\" title=\"Vai all'ultima pagina\">...</a></li>]\n"
     ]
    }
   ],
   "source": [
    "div = reg_soup.find('div', {'id' : 'paginazione'}) # pages of numbers are in this div\n",
    "    \n",
    "li_tags = [li for li in div.findAll('li')] # pages numbers are in these li elements\n",
    "\n",
    "print(li_tags)"
   ]
  },
  {
   "cell_type": "markdown",
   "metadata": {},
   "source": [
    "As we said, we want the number found in the url of the last li-tag:"
   ]
  },
  {
   "cell_type": "code",
   "execution_count": 16,
   "metadata": {},
   "outputs": [
    {
     "name": "stdout",
     "output_type": "stream",
     "text": [
      "<li><a href=\"/abruzzo/alberghi-hotels_81.asp\" title=\"Vai all'ultima pagina\">...</a></li>\n"
     ]
    }
   ],
   "source": [
    "last_li = li_tags[-1] # we want the last li\n",
    "\n",
    "print(last_li)"
   ]
  },
  {
   "cell_type": "code",
   "execution_count": 18,
   "metadata": {},
   "outputs": [
    {
     "name": "stdout",
     "output_type": "stream",
     "text": [
      "/abruzzo/alberghi-hotels_81.asp\n"
     ]
    }
   ],
   "source": [
    "last_li_url = last_li.find('a').attrs['href'] # we extract the number from the url of the last li (which corresponds to the button for the last page) \n",
    "print(last_li_url)"
   ]
  },
  {
   "cell_type": "code",
   "execution_count": 22,
   "metadata": {},
   "outputs": [
    {
     "name": "stdout",
     "output_type": "stream",
     "text": [
      "81\n"
     ]
    }
   ],
   "source": [
    "N = int(re.findall(r'\\d+', last_li_url)[0]) # convert to integer the only digit found\n",
    "print(N)"
   ]
  },
  {
   "cell_type": "markdown",
   "metadata": {},
   "source": [
    "In order to make this code re-usable, let's bring it together in a function:"
   ]
  },
  {
   "cell_type": "code",
   "execution_count": 24,
   "metadata": {},
   "outputs": [],
   "source": [
    "def howmany_pages(region): # define a function with region as input\n",
    "    reg_url = region_template_url.format(region) # insert region into template url\n",
    "    reg_r = requests.get(reg_url, headers=headers) # http request to page\n",
    "    reg_soup = bs(reg_r.text, \"lxml\")  # soupify    \n",
    "    div = reg_soup.find('div', {'id' : 'paginazione'}) # pages of numbers are in this div    \n",
    "    li_tags = [li for li in div.findAll('li')] # pages numbers are in these li elements    \n",
    "    last_li = li_tags[-1].find('a').attrs['href'] # we extract the url of last li    \n",
    "    N = int(re.findall(r'\\d+', last_li)[0]) # convert to integer the only digit found\n",
    "    \n",
    "    return(N)"
   ]
  },
  {
   "cell_type": "code",
   "execution_count": 25,
   "metadata": {},
   "outputs": [
    {
     "data": {
      "text/plain": [
       "81"
      ]
     },
     "execution_count": 25,
     "metadata": {},
     "output_type": "execute_result"
    }
   ],
   "source": [
    "howmany_pages(\"abruzzo\")"
   ]
  },
  {
   "cell_type": "code",
   "execution_count": 26,
   "metadata": {},
   "outputs": [
    {
     "data": {
      "text/plain": [
       "149"
      ]
     },
     "execution_count": 26,
     "metadata": {},
     "output_type": "execute_result"
    }
   ],
   "source": [
    "howmany_pages(\"piemonte\")"
   ]
  },
  {
   "cell_type": "markdown",
   "metadata": {},
   "source": [
    "It works!\n",
    "\n",
    "Using the function let's convert the list of regions into a dictionary where each region is associated with its number of pages:"
   ]
  },
  {
   "cell_type": "code",
   "execution_count": 27,
   "metadata": {},
   "outputs": [],
   "source": [
    "# collect in a dictionary the name of each region with its max number of pages\n",
    "regions_dic = {region : howmany_pages(region) for region in regions}"
   ]
  },
  {
   "cell_type": "code",
   "execution_count": 28,
   "metadata": {},
   "outputs": [
    {
     "name": "stdout",
     "output_type": "stream",
     "text": [
      "{'lombardia': 256, 'lazio': 184, 'veneto': 288, 'toscana': 406, 'campania': 174, 'valle-d-aosta': 36, 'trentino-alto-adige': 300, 'molise': 8, 'calabria': 73, 'umbria': 74, 'sicilia': 183, 'piemonte': 149, 'abruzzo': 81, 'basilicata': 17, 'emilia-romagna': 379, 'friuli-venezia-giulia': 65, 'liguria': 123, 'sardegna': 97, 'puglia': 108, 'marche': 103}\n"
     ]
    }
   ],
   "source": [
    "print(regions_dic)"
   ]
  },
  {
   "cell_type": "markdown",
   "metadata": {},
   "source": [
    "With this dictionary it's relatively easy to cycle through regions, and for each region cycle through pages and download the names of the hotels found in each page. \n",
    "\n",
    "Let's look at one example, then we can generalize:\n",
    "7th page of \"Marche\" http://www.elenco-alberghi.it/marche/alberghi-hotels_7.asp it looks like this:\n",
    "\n",
    "![title](marche7.png)"
   ]
  },
  {
   "cell_type": "markdown",
   "metadata": {},
   "source": [
    "Zooming in:\n",
    "\n",
    "![title](marche7_zoom.png)"
   ]
  },
  {
   "cell_type": "markdown",
   "metadata": {},
   "source": [
    "We need to extract the text element from a-tags in the span with class \"titololista\":"
   ]
  },
  {
   "cell_type": "code",
   "execution_count": 30,
   "metadata": {},
   "outputs": [],
   "source": [
    "# we start from a url template\n",
    "page_template_url = \"http://www.elenco-alberghi.it/{}/alberghi-hotels_{}.asp\"\n",
    "# second curly braces will be the page number"
   ]
  },
  {
   "cell_type": "code",
   "execution_count": 31,
   "metadata": {},
   "outputs": [],
   "source": [
    "region = \"marche\" # set region manually\n",
    "i = 7 # set page number manually"
   ]
  },
  {
   "cell_type": "code",
   "execution_count": 33,
   "metadata": {},
   "outputs": [
    {
     "name": "stdout",
     "output_type": "stream",
     "text": [
      "http://www.elenco-alberghi.it/marche/alberghi-hotels_7.asp\n"
     ]
    }
   ],
   "source": [
    "reg_url = page_template_url.format(region, i) # fill the details of the url\n",
    "print(reg_url)"
   ]
  },
  {
   "cell_type": "code",
   "execution_count": 34,
   "metadata": {},
   "outputs": [],
   "source": [
    "reg_soup = bs(reg_r.text, \"lxml\")  # soupify"
   ]
  },
  {
   "cell_type": "code",
   "execution_count": 36,
   "metadata": {},
   "outputs": [
    {
     "name": "stdout",
     "output_type": "stream",
     "text": [
      "[<span class=\"titololista\"><a href=\"http://www.elenco-alberghi.it/abruzzo/l-aquila/opi/12293.asp\">HOTEL DU PARK - FABER GESTIONI TURISTICHE SRL</a></span>, <span class=\"titololista\"><a href=\"http://www.elenco-alberghi.it/abruzzo/teramo/controguerra/hotel-31968.asp\">BED AND BREAKFAST GIARDINO AGRITOURIST </a></span>, <span class=\"titololista\"><a href=\"http://www.elenco-alberghi.it/abruzzo/teramo/tortoreto/hotel-32269.asp\">HOTEL CLARA</a></span>, <span class=\"titololista\"><a href=\"http://www.elenco-alberghi.it/abruzzo/l-aquila/barrea/hotel-32423.asp\">LA CASA NEL BORGO</a></span>, <span class=\"titololista\"><a href=\"http://www.elenco-alberghi.it/abruzzo/teramo/tortoreto/hotel-33600.asp\">RESIDENCE MARGHERITA</a></span>, <span class=\"titololista\"><a href=\"http://www.elenco-alberghi.it/abruzzo/l-aquila/scanno/hotel-33944.asp\">HOTEL GARNI MILLE PINI </a></span>, <span class=\"titololista\"><a href=\"http://www.elenco-alberghi.it/abruzzo/chieti/arielli/hotel-34208.asp\">CASA DELL'ARCIPRETE B&amp;B</a></span>, <span class=\"titololista\"><a href=\"http://www.elenco-alberghi.it/abruzzo/chieti/poggiofiorito/hotel-34231.asp\">B&amp;B VILLA ANGELA</a></span>, <span class=\"titololista\"><a href=\"http://www.elenco-alberghi.it/abruzzo/pescara/abbateggio/hotel-34303.asp\">COLLE DELLA SELVA</a></span>, <span class=\"titololista\"><a href=\"http://www.elenco-alberghi.it/abruzzo/l-aquila/alfedena/hotel-34492.asp\">ALISMA HOTEL</a></span>]\n"
     ]
    }
   ],
   "source": [
    "span = reg_soup.findAll('span', {'class' : 'titololista'}) # get the span\n",
    "print(span)"
   ]
  },
  {
   "cell_type": "code",
   "execution_count": 38,
   "metadata": {},
   "outputs": [
    {
     "name": "stdout",
     "output_type": "stream",
     "text": [
      "['Hotel Du Park - Faber Gestioni Turistiche Srl', 'Bed And Breakfast Giardino Agritourist ', 'Hotel Clara', 'La Casa Nel Borgo', 'Residence Margherita', 'Hotel Garni Mille Pini ', \"Casa Dell'Arciprete B&B\", 'B&B Villa Angela', 'Colle Della Selva', 'Alisma Hotel']\n"
     ]
    }
   ],
   "source": [
    "names = [name.text.title() for name in span] # extract the text from each element, change case\n",
    "print(names)"
   ]
  },
  {
   "cell_type": "markdown",
   "metadata": {},
   "source": [
    "Some cleaning will be needed, but the basic approach works.\n",
    "\n",
    "Let's convert the code into a function which can be applied more generally:"
   ]
  },
  {
   "cell_type": "code",
   "execution_count": 50,
   "metadata": {},
   "outputs": [],
   "source": [
    "def get_names(region, N): # second argument will be provided with our dictionary above\n",
    "    \n",
    "    print()\n",
    "    print(\"Working on \"+region+\"...\")\n",
    "    print()\n",
    "    \n",
    "    region_template_url = \"http://www.elenco-alberghi.it/{}/alberghi-hotels_{}.asp\"\n",
    "    \n",
    "    names = [] # initialize list  \n",
    "    \n",
    "    for i in range(1, N + 1):\n",
    "    \n",
    "        reg_url = region_template_url.format(region, i) # fill the details of the url\n",
    "        reg_r = requests.get(reg_url, headers=headers) # http request to page\n",
    "        reg_soup = bs(reg_r.text, \"lxml\")  # soupify\n",
    "        \n",
    "        # hotel names are in these span elements\n",
    "        tmp_names = [name.text.title() for name in reg_soup.findAll('span', {'class' : 'titololista'})]\n",
    "        \n",
    "        names.extend(tmp_names) # append names found in this iteration\n",
    "      \n",
    "        # sometimes it's a good idea to randomize the wait between http calls, to avoid ip-banning\n",
    "        timeDelay = 0.1 * random.randrange(0, 3) + 0.5\n",
    "        time.sleep(timeDelay) # wait some random time\n",
    "        \n",
    "    print(\"Done!\")\n",
    "        \n",
    "    return(names)"
   ]
  },
  {
   "cell_type": "code",
   "execution_count": 51,
   "metadata": {},
   "outputs": [
    {
     "name": "stdout",
     "output_type": "stream",
     "text": [
      "\n",
      "Working on molise...\n",
      "\n",
      "Done!\n"
     ]
    }
   ],
   "source": [
    "names_molise = get_names(\"molise\", regions_dic[\"molise\"])"
   ]
  },
  {
   "cell_type": "code",
   "execution_count": 52,
   "metadata": {},
   "outputs": [
    {
     "name": "stdout",
     "output_type": "stream",
     "text": [
      "['Dimora Del Prete Di Belmonte', 'B&B Villa Ada', 'Albergo Ristorante Lo Smeraldo', 'Azienda Agrituristica La Ginestra', \"Hotel La Fonte Dell'Astore\", 'Albergo Le Dune', 'Cascina Garden Hotel', 'Grand Hotel Aljope', 'Grand Hotel Rinascimento', 'Artemide', 'Santo Stefano Dei Cavalli', \"Pleiadi'S Hotel \", 'Bar Albergo Hotel La Rondine ', 'Hostel Palazzo Della Citta', 'Hotel Il Duca Del Sannio', 'Masseria Santa Lucia', 'Borgo San Pietro', 'Hotel Majestic Molise', \"Hotel Residence L'Airone\", 'Albergo Ristorante Miralago', 'Albergo Santoianni', 'Hotel Santa Lucia', 'Masseria Acquasalsa', 'Villaggio Le Meridiane', 'La Romanella', 'Hotel Capodivandra', 'Hotel Di Nardo', 'Masseria Monte Pizzi ', 'Domus Hotel', 'Residence Polena', 'Dimora Spina', 'Hotel Ribo Le Villette', 'B&B La Grotta Delle Fate', 'Agriturismo La Guardata', 'Albergo Campitelli 2', 'San Giorgio Hotel ', 'Hotel Il Cacciatore', 'Aloha Park Hotel ', 'Hotel Kristall', 'Hotel Lo Sciatore', 'Hotel Miletto', 'Albergo Rifugio Iezza', 'Hotel Kristiania', 'Agriturismo Colle Delle Ginestre ', 'Agriturismo La Quiete', 'Oca Giuliva', 'Agriturismo Colle Bianco', 'Hotel Ristorante Il Poggio', 'Hotel Strand ', 'Hotel Nido Verde', 'Hotel Capracotta', 'Casale Maginulfo Albergo ', 'Venafro Palace Hotel ', 'Albergo Ristorante Volturno', 'Hotel Colombina', 'Hotel Ristorante Sayonara ', 'Albergo La Tequila', 'Grand Hotel Europa ', 'Hotel Holiday ', 'Hotel Riggioni ', 'Hotel Dora', 'Hotel Residence Pollice Mare', 'Pensione Villa Ida', 'Europa Hotel ', 'Pensione Al Pescatore', 'Hotel Corona', 'Hotel Meridiano', 'Albergo Residenza Sveva', 'Hotel Ruffirio', 'Hotel Ristorante Le Cupolette', 'Albergo Ristorante Italia', 'Albergo Samnium', 'Hotel Mistral', 'Hotel Palma Costa Gioiosa', 'Hotel Acquario', 'Hotel Pablo ', 'B&B Mille Ulivi']\n"
     ]
    }
   ],
   "source": [
    "print(names_molise)"
   ]
  },
  {
   "cell_type": "markdown",
   "metadata": {},
   "source": [
    "Finally, we can apply the function get_names to each entry in our region dictionary, and save the results as text files:"
   ]
  },
  {
   "cell_type": "code",
   "execution_count": null,
   "metadata": {},
   "outputs": [],
   "source": [
    "# this will save one file for each region\n",
    "\n",
    "#for region in regions_dic.keys(): # cycle through region names in our dictionary\n",
    "    \n",
    "#    with open(region, \"w+\") as output_file: # write here, one file per region, then we can cat them all together\n",
    "        \n",
    "#        names = get_names(region, regions_dic[region]) # get results\n",
    "        \n",
    "#        for name in names: # cycle through names in get_names results\n",
    "            \n",
    "#            output_file.write(name+\"\\n\") # write to file together with EOL"
   ]
  }
 ],
 "metadata": {
  "kernelspec": {
   "display_name": "Python 3",
   "language": "python",
   "name": "python3"
  },
  "language_info": {
   "codemirror_mode": {
    "name": "ipython",
    "version": 3
   },
   "file_extension": ".py",
   "mimetype": "text/x-python",
   "name": "python",
   "nbconvert_exporter": "python",
   "pygments_lexer": "ipython3",
   "version": "3.7.1"
  }
 },
 "nbformat": 4,
 "nbformat_minor": 2
}
